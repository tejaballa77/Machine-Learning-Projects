{
 "cells": [
  {
   "cell_type": "markdown",
   "id": "486e4479-ff59-4171-b852-4606868a87c0",
   "metadata": {},
   "source": [
    "# Credit Card Fraud Detection :"
   ]
  },
  {
   "cell_type": "markdown",
   "id": "2f456702-4164-423d-b0e4-efd7f8900930",
   "metadata": {},
   "source": [
    "## Goal:\n",
    "\n",
    "Build a machine learning model that automatically detects whether a transaction is fraudulent (1) or legitimate (0) based on transaction data.\n",
    "\n",
    "### Dataset Explanation\n",
    "\n",
    "Your dataset has 284,807 rows (transactions) and 31 columns (features):\n",
    "\n",
    "* Column\tDescription :\n",
    "| Column       | Description                                                                                                                                                                                                       |\n",
    "| ------------ | ----------------------------------------------------------------------------------------------------------------------------------------------------------------------------------------------------------------- |\n",
    "| **Time**     | Seconds elapsed between this transaction and the first transaction in the dataset. Helps identify transaction timing patterns.                                                                                    |\n",
    "| **V1 – V28** | These are **anonymized features** (PCA transformed). The original numeric features (like transaction location, merchant details, etc.) were transformed using **Principal Component Analysis (PCA)** for privacy. |\n",
    "| **Amount**   | Transaction amount (money spent). Important for model performance — large unusual amounts may indicate fraud.                                                                                                     |\n",
    "| **Class**    | Target variable — 0 = legitimate, 1 = fraud.                                                                                                                                                                      |\n",
    "\n",
    "\n",
    "* No missing values\n",
    "* Highly imbalanced dataset (fraudulent = 0.1727%, legitimate = 99.8273%)"
   ]
  },
  {
   "cell_type": "markdown",
   "id": "5df13150-a165-449f-81a5-4a12677570df",
   "metadata": {},
   "source": [
    "## Project Workflow  :\n",
    "Step 1: Data Understanding and Exploration (EDA)\n",
    "\n",
    "* Check for imbalance (fraud vs non-fraud count)\n",
    "\n",
    "* Analyze transaction amount, time, and patterns\n",
    "\n",
    "Step 2: Data Preprocessing\n",
    "\n",
    "* Normalize/scale Amount and Time\n",
    "\n",
    "* Handle class imbalance (using undersampling or SMOTE)\n",
    "\n",
    "Step 3: Model Building\n",
    "\n",
    "* Use algorithms like:\n",
    "\n",
    "* Logistic Regression\n",
    "\n",
    "* Random Forest\n",
    "\n",
    "* XGBoost or LightGBM\n",
    "\n",
    "* Neural Networks (optional)\n",
    "\n",
    "Step 4: Model Evaluation\n",
    "\n",
    "* Use metrics suited for imbalanced data:\n",
    "\n",
    "* Precision\n",
    "\n",
    "* Recall\n",
    "\n",
    "* F1-score\n",
    "\n",
    "* ROC-AUC curve\n",
    "\n",
    "Step 5: Insights & Outputs\n",
    "\n",
    "* You’ll get:\n",
    "\n",
    "* How many frauds were correctly detected\n",
    "\n",
    "* What kind of transactions are risky\n",
    "\n",
    "* A trained model that predicts new fraudulent transactions"
   ]
  },
  {
   "cell_type": "markdown",
   "id": "1e18ea23-b0fe-419a-8404-67eaa5050ce3",
   "metadata": {},
   "source": [
    "## Step 1: Data Understanding and Exploration (EDA)"
   ]
  },
  {
   "cell_type": "code",
   "execution_count": 2,
   "id": "d90a5e6b-3c7b-44a3-9daa-1a383f392373",
   "metadata": {},
   "outputs": [],
   "source": [
    "import warnings\n",
    "warnings.filterwarnings(\"ignore\")"
   ]
  },
  {
   "cell_type": "code",
   "execution_count": 3,
   "id": "535603d8-6f14-4bd1-912f-f65f8b17aaac",
   "metadata": {},
   "outputs": [],
   "source": [
    "import pandas as pd     #for handling and analyzing data (tables, CSV, etc.)\n",
    "import numpy as np      #for mathematical operations\n",
    "import matplotlib.pyplot as plt      #for visualizations (graphs)\n",
    "import seaborn as sns       #for beautiful statistical plots"
   ]
  },
  {
   "cell_type": "code",
   "execution_count": 4,
   "id": "4d9564d3-89a6-491d-a118-8865ed61ae1b",
   "metadata": {},
   "outputs": [
    {
     "data": {
      "text/html": [
       "<div>\n",
       "<style scoped>\n",
       "    .dataframe tbody tr th:only-of-type {\n",
       "        vertical-align: middle;\n",
       "    }\n",
       "\n",
       "    .dataframe tbody tr th {\n",
       "        vertical-align: top;\n",
       "    }\n",
       "\n",
       "    .dataframe thead th {\n",
       "        text-align: right;\n",
       "    }\n",
       "</style>\n",
       "<table border=\"1\" class=\"dataframe\">\n",
       "  <thead>\n",
       "    <tr style=\"text-align: right;\">\n",
       "      <th></th>\n",
       "      <th>Time</th>\n",
       "      <th>V1</th>\n",
       "      <th>V2</th>\n",
       "      <th>V3</th>\n",
       "      <th>V4</th>\n",
       "      <th>V5</th>\n",
       "      <th>V6</th>\n",
       "      <th>V7</th>\n",
       "      <th>V8</th>\n",
       "      <th>V9</th>\n",
       "      <th>...</th>\n",
       "      <th>V21</th>\n",
       "      <th>V22</th>\n",
       "      <th>V23</th>\n",
       "      <th>V24</th>\n",
       "      <th>V25</th>\n",
       "      <th>V26</th>\n",
       "      <th>V27</th>\n",
       "      <th>V28</th>\n",
       "      <th>Amount</th>\n",
       "      <th>Class</th>\n",
       "    </tr>\n",
       "  </thead>\n",
       "  <tbody>\n",
       "    <tr>\n",
       "      <th>0</th>\n",
       "      <td>0.0</td>\n",
       "      <td>-1.359807</td>\n",
       "      <td>-0.072781</td>\n",
       "      <td>2.536347</td>\n",
       "      <td>1.378155</td>\n",
       "      <td>-0.338321</td>\n",
       "      <td>0.462388</td>\n",
       "      <td>0.239599</td>\n",
       "      <td>0.098698</td>\n",
       "      <td>0.363787</td>\n",
       "      <td>...</td>\n",
       "      <td>-0.018307</td>\n",
       "      <td>0.277838</td>\n",
       "      <td>-0.110474</td>\n",
       "      <td>0.066928</td>\n",
       "      <td>0.128539</td>\n",
       "      <td>-0.189115</td>\n",
       "      <td>0.133558</td>\n",
       "      <td>-0.021053</td>\n",
       "      <td>149.62</td>\n",
       "      <td>0</td>\n",
       "    </tr>\n",
       "    <tr>\n",
       "      <th>1</th>\n",
       "      <td>0.0</td>\n",
       "      <td>1.191857</td>\n",
       "      <td>0.266151</td>\n",
       "      <td>0.166480</td>\n",
       "      <td>0.448154</td>\n",
       "      <td>0.060018</td>\n",
       "      <td>-0.082361</td>\n",
       "      <td>-0.078803</td>\n",
       "      <td>0.085102</td>\n",
       "      <td>-0.255425</td>\n",
       "      <td>...</td>\n",
       "      <td>-0.225775</td>\n",
       "      <td>-0.638672</td>\n",
       "      <td>0.101288</td>\n",
       "      <td>-0.339846</td>\n",
       "      <td>0.167170</td>\n",
       "      <td>0.125895</td>\n",
       "      <td>-0.008983</td>\n",
       "      <td>0.014724</td>\n",
       "      <td>2.69</td>\n",
       "      <td>0</td>\n",
       "    </tr>\n",
       "    <tr>\n",
       "      <th>2</th>\n",
       "      <td>1.0</td>\n",
       "      <td>-1.358354</td>\n",
       "      <td>-1.340163</td>\n",
       "      <td>1.773209</td>\n",
       "      <td>0.379780</td>\n",
       "      <td>-0.503198</td>\n",
       "      <td>1.800499</td>\n",
       "      <td>0.791461</td>\n",
       "      <td>0.247676</td>\n",
       "      <td>-1.514654</td>\n",
       "      <td>...</td>\n",
       "      <td>0.247998</td>\n",
       "      <td>0.771679</td>\n",
       "      <td>0.909412</td>\n",
       "      <td>-0.689281</td>\n",
       "      <td>-0.327642</td>\n",
       "      <td>-0.139097</td>\n",
       "      <td>-0.055353</td>\n",
       "      <td>-0.059752</td>\n",
       "      <td>378.66</td>\n",
       "      <td>0</td>\n",
       "    </tr>\n",
       "    <tr>\n",
       "      <th>3</th>\n",
       "      <td>1.0</td>\n",
       "      <td>-0.966272</td>\n",
       "      <td>-0.185226</td>\n",
       "      <td>1.792993</td>\n",
       "      <td>-0.863291</td>\n",
       "      <td>-0.010309</td>\n",
       "      <td>1.247203</td>\n",
       "      <td>0.237609</td>\n",
       "      <td>0.377436</td>\n",
       "      <td>-1.387024</td>\n",
       "      <td>...</td>\n",
       "      <td>-0.108300</td>\n",
       "      <td>0.005274</td>\n",
       "      <td>-0.190321</td>\n",
       "      <td>-1.175575</td>\n",
       "      <td>0.647376</td>\n",
       "      <td>-0.221929</td>\n",
       "      <td>0.062723</td>\n",
       "      <td>0.061458</td>\n",
       "      <td>123.50</td>\n",
       "      <td>0</td>\n",
       "    </tr>\n",
       "    <tr>\n",
       "      <th>4</th>\n",
       "      <td>2.0</td>\n",
       "      <td>-1.158233</td>\n",
       "      <td>0.877737</td>\n",
       "      <td>1.548718</td>\n",
       "      <td>0.403034</td>\n",
       "      <td>-0.407193</td>\n",
       "      <td>0.095921</td>\n",
       "      <td>0.592941</td>\n",
       "      <td>-0.270533</td>\n",
       "      <td>0.817739</td>\n",
       "      <td>...</td>\n",
       "      <td>-0.009431</td>\n",
       "      <td>0.798278</td>\n",
       "      <td>-0.137458</td>\n",
       "      <td>0.141267</td>\n",
       "      <td>-0.206010</td>\n",
       "      <td>0.502292</td>\n",
       "      <td>0.219422</td>\n",
       "      <td>0.215153</td>\n",
       "      <td>69.99</td>\n",
       "      <td>0</td>\n",
       "    </tr>\n",
       "  </tbody>\n",
       "</table>\n",
       "<p>5 rows × 31 columns</p>\n",
       "</div>"
      ],
      "text/plain": [
       "   Time        V1        V2        V3        V4        V5        V6        V7  \\\n",
       "0   0.0 -1.359807 -0.072781  2.536347  1.378155 -0.338321  0.462388  0.239599   \n",
       "1   0.0  1.191857  0.266151  0.166480  0.448154  0.060018 -0.082361 -0.078803   \n",
       "2   1.0 -1.358354 -1.340163  1.773209  0.379780 -0.503198  1.800499  0.791461   \n",
       "3   1.0 -0.966272 -0.185226  1.792993 -0.863291 -0.010309  1.247203  0.237609   \n",
       "4   2.0 -1.158233  0.877737  1.548718  0.403034 -0.407193  0.095921  0.592941   \n",
       "\n",
       "         V8        V9  ...       V21       V22       V23       V24       V25  \\\n",
       "0  0.098698  0.363787  ... -0.018307  0.277838 -0.110474  0.066928  0.128539   \n",
       "1  0.085102 -0.255425  ... -0.225775 -0.638672  0.101288 -0.339846  0.167170   \n",
       "2  0.247676 -1.514654  ...  0.247998  0.771679  0.909412 -0.689281 -0.327642   \n",
       "3  0.377436 -1.387024  ... -0.108300  0.005274 -0.190321 -1.175575  0.647376   \n",
       "4 -0.270533  0.817739  ... -0.009431  0.798278 -0.137458  0.141267 -0.206010   \n",
       "\n",
       "        V26       V27       V28  Amount  Class  \n",
       "0 -0.189115  0.133558 -0.021053  149.62      0  \n",
       "1  0.125895 -0.008983  0.014724    2.69      0  \n",
       "2 -0.139097 -0.055353 -0.059752  378.66      0  \n",
       "3 -0.221929  0.062723  0.061458  123.50      0  \n",
       "4  0.502292  0.219422  0.215153   69.99      0  \n",
       "\n",
       "[5 rows x 31 columns]"
      ]
     },
     "execution_count": 4,
     "metadata": {},
     "output_type": "execute_result"
    }
   ],
   "source": [
    "df = pd.read_csv(\"creditcard.csv\")\n",
    "df.head()"
   ]
  },
  {
   "cell_type": "code",
   "execution_count": 5,
   "id": "33608ced-66a4-47dd-8db1-956539fd7336",
   "metadata": {},
   "outputs": [
    {
     "name": "stdout",
     "output_type": "stream",
     "text": [
      "Dataset shape:  (284807, 31)\n"
     ]
    }
   ],
   "source": [
    "print(\"Dataset shape: \",df.shape)"
   ]
  },
  {
   "cell_type": "code",
   "execution_count": 6,
   "id": "b937be07-8476-4537-a7fd-e56263900a1b",
   "metadata": {},
   "outputs": [
    {
     "data": {
      "text/plain": [
       "Time      0\n",
       "V1        0\n",
       "V2        0\n",
       "V3        0\n",
       "V4        0\n",
       "V5        0\n",
       "V6        0\n",
       "V7        0\n",
       "V8        0\n",
       "V9        0\n",
       "V10       0\n",
       "V11       0\n",
       "V12       0\n",
       "V13       0\n",
       "V14       0\n",
       "V15       0\n",
       "V16       0\n",
       "V17       0\n",
       "V18       0\n",
       "V19       0\n",
       "V20       0\n",
       "V21       0\n",
       "V22       0\n",
       "V23       0\n",
       "V24       0\n",
       "V25       0\n",
       "V26       0\n",
       "V27       0\n",
       "V28       0\n",
       "Amount    0\n",
       "Class     0\n",
       "dtype: int64"
      ]
     },
     "execution_count": 6,
     "metadata": {},
     "output_type": "execute_result"
    }
   ],
   "source": [
    "df.isnull().sum()"
   ]
  },
  {
   "cell_type": "code",
   "execution_count": 7,
   "id": "bf2bb602-2793-4575-8685-48dbc43fe5e4",
   "metadata": {},
   "outputs": [
    {
     "name": "stdout",
     "output_type": "stream",
     "text": [
      "Class\n",
      "0    284315\n",
      "1       492\n",
      "Name: count, dtype: int64\n"
     ]
    }
   ],
   "source": [
    "print(df['Class'].value_counts())"
   ]
  },
  {
   "cell_type": "markdown",
   "id": "359163e1-d45f-48ed-9c8c-c27981dc74ad",
   "metadata": {},
   "source": [
    "## STEP 2 : Exploratory Data Analysis (EDA)"
   ]
  },
  {
   "cell_type": "markdown",
   "id": "265c8258-6407-4fae-a5db-802652d4b4ce",
   "metadata": {},
   "source": [
    "EDA helps us understand patterns, anomalies, and relationships in the dataset before applying machine learning."
   ]
  },
  {
   "cell_type": "code",
   "execution_count": 8,
   "id": "4452984e-230b-4615-8672-fa6cb121f2a6",
   "metadata": {},
   "outputs": [
    {
     "data": {
      "image/png": "[encoded data removed]",
      "text/plain": [
       "<Figure size 640x480 with 1 Axes>"
      ]
     },
     "metadata": {},
     "output_type": "display_data"
    }
   ],
   "source": [
    "sns.countplot(x='Class', data=df)\n",
    "plt.title(\"Class Distribution (0: Legit, 1: Fraud)\")\n",
    "plt.show()"
   ]
  },
  {
   "cell_type": "code",
   "execution_count": 9,
   "id": "d9465098-04ea-4df1-aa90-4030b3850f10",
   "metadata": {},
   "outputs": [
    {
     "data": {
      "text/plain": [
       "count    284807.000000\n",
       "mean         88.349619\n",
       "std         250.120109\n",
       "min           0.000000\n",
       "25%           5.600000\n",
       "50%          22.000000\n",
       "75%          77.165000\n",
       "max       25691.160000\n",
       "Name: Amount, dtype: float64"
      ]
     },
     "execution_count": 9,
     "metadata": {},
     "output_type": "execute_result"
    }
   ],
   "source": [
    "df['Amount'].describe()"
   ]
  },
  {
   "cell_type": "code",
   "execution_count": 10,
   "id": "cdaab339-ba15-4f68-9d8b-32ba56afd449",
   "metadata": {},
   "outputs": [
    {
     "data": {
      "image/png": "[encoded data removed]",
      "text/plain": [
       "<Figure size 800x400 with 1 Axes>"
      ]
     },
     "metadata": {},
     "output_type": "display_data"
    }
   ],
   "source": [
    "plt.figure(figsize=(8,4))\n",
    "sns.histplot(df['Amount'], bins=50, kde=True, color='skyblue')\n",
    "plt.title('Transaction Amount Distribution')\n",
    "plt.xlabel('Amount')\n",
    "plt.ylabel('Frequency')\n",
    "plt.show()"
   ]
  },
  {
   "cell_type": "markdown",
   "id": "051c742f-6d75-45c9-a215-abea4ebbbf8d",
   "metadata": {},
   "source": [
    "Creates a histogram — most transactions are below ₹100, a few are large.\n",
    "This tells us fraud detection cannot depend only on amount."
   ]
  },
  {
   "cell_type": "code",
   "execution_count": 11,
   "id": "74bc4dde-e984-4200-a030-c1885f8c345c",
   "metadata": {},
   "outputs": [
    {
     "data": {
      "image/png": "[encoded data removed]",
      "text/plain": [
       "<Figure size 800x400 with 1 Axes>"
      ]
     },
     "metadata": {},
     "output_type": "display_data"
    }
   ],
   "source": [
    "plt.figure(figsize=(8,4))\n",
    "sns.histplot(df['Time'], bins=50, kde=True, color='orange')\n",
    "plt.title('Transaction Time Distribution')\n",
    "plt.xlabel('Time (seconds since first transaction)')\n",
    "plt.ylabel('Frequency')\n",
    "plt.show()"
   ]
  },
  {
   "cell_type": "markdown",
   "id": "9f858ea4-bc57-4f8a-8543-cdc387ec3b75",
   "metadata": {},
   "source": [
    "Shows how transactions occur over time.\n",
    "We can later check if frauds cluster at specific times (like night hours)."
   ]
  },
  {
   "cell_type": "code",
   "execution_count": 12,
   "id": "8e5ccf45-c7aa-41f2-9f0c-8208e182a61b",
   "metadata": {},
   "outputs": [
    {
     "name": "stdout",
     "output_type": "stream",
     "text": [
      "Number of Rows: 284807\n",
      "Number of Columns: 31\n"
     ]
    }
   ],
   "source": [
    "rows, cols = df.shape\n",
    "print(f\"Number of Rows: {rows}\")\n",
    "print(f\"Number of Columns: {cols}\")"
   ]
  },
  {
   "cell_type": "code",
   "execution_count": 13,
   "id": "40bcf839-4ed8-4a48-98c4-3575a16c9c40",
   "metadata": {},
   "outputs": [
    {
     "name": "stdout",
     "output_type": "stream",
     "text": [
      "Class\n",
      "0    284315\n",
      "1       492\n",
      "Name: count, dtype: int64\n"
     ]
    }
   ],
   "source": [
    "class_counts = df['Class'].value_counts()\n",
    "print(class_counts)"
   ]
  },
  {
   "cell_type": "code",
   "execution_count": 14,
   "id": "032b19a1-a137-4bdc-8af3-810773047e91",
   "metadata": {},
   "outputs": [
    {
     "name": "stdout",
     "output_type": "stream",
     "text": [
      "Fraudulent Transactions: 0.1727%\n"
     ]
    }
   ],
   "source": [
    "fraud_percentage = (class_counts[1] / class_counts.sum()) * 100\n",
    "print(f\"Fraudulent Transactions: {fraud_percentage:.4f}%\")"
   ]
  },
  {
   "cell_type": "markdown",
   "id": "e1209118-922f-45c0-91b9-ccd18eca530d",
   "metadata": {},
   "source": [
    "## STEP 3: DATA PREPROCESSING"
   ]
  },
  {
   "cell_type": "markdown",
   "id": "60d418bb-84c0-4160-8bef-8b0ad455bdaa",
   "metadata": {},
   "source": [
    "In this step, we prepare the dataset for training by doing:\n",
    "\n",
    "* Feature Scaling\n",
    "\n",
    "* Splitting the dataset into training and testing parts\n",
    "\n",
    "* Handling class imbalance"
   ]
  },
  {
   "cell_type": "code",
   "execution_count": 15,
   "id": "4e4b1267-e9cc-409b-9cef-bd544eb61f6c",
   "metadata": {},
   "outputs": [],
   "source": [
    "import numpy as np\n",
    "from sklearn.preprocessing import StandardScaler\n",
    "from sklearn.model_selection import train_test_split"
   ]
  },
  {
   "cell_type": "markdown",
   "id": "a7f696d9-e6f9-41ab-acea-010d9aa5a1d2",
   "metadata": {},
   "source": [
    "#### Separate Features (X) and Target (y)"
   ]
  },
  {
   "cell_type": "code",
   "execution_count": 16,
   "id": "d3fda3a8-c4f8-4fd1-ad4c-128a05332d77",
   "metadata": {},
   "outputs": [],
   "source": [
    "X = df.drop('Class', axis=1)   # All columns except Class\n",
    "y = df['Class']                # Target variable"
   ]
  },
  {
   "cell_type": "markdown",
   "id": "e3c5707f-1e8d-4e94-81bc-adf15fe7187b",
   "metadata": {},
   "source": [
    "#### Feature Scaling (Standardisation) :"
   ]
  },
  {
   "cell_type": "code",
   "execution_count": 17,
   "id": "5e4743c4-8b8a-4ea4-837d-142dd7b315db",
   "metadata": {},
   "outputs": [],
   "source": [
    "scaler = StandardScaler()\n",
    "X['Time'] = scaler.fit_transform(X['Time'].values.reshape(-1, 1))\n",
    "X['Amount'] = scaler.fit_transform(X['Amount'].values.reshape(-1, 1))"
   ]
  },
  {
   "cell_type": "markdown",
   "id": "650e415f-26c5-470e-b59c-bb5732079288",
   "metadata": {},
   "source": [
    "#### Train-Test Split :"
   ]
  },
  {
   "cell_type": "code",
   "execution_count": 18,
   "id": "368465a7-5a3a-4c7b-98f4-17797c839cc6",
   "metadata": {},
   "outputs": [],
   "source": [
    "X_train, X_test, y_train, y_test = train_test_split(\n",
    "    X, y, test_size=0.2, random_state=42, stratify=y\n",
    ")"
   ]
  },
  {
   "cell_type": "markdown",
   "id": "377cc970-6c35-470c-a923-31a1ccab39fa",
   "metadata": {},
   "source": [
    "#### Handle Class Imbalance\n",
    "\n",
    "* Our dataset is highly imbalanced (~0.17% frauds).\n",
    "If we train the model as it is, it will learn to predict only “Non-Fraud” every time.\n",
    "To fix this, we use SMOTE (Synthetic Minority Oversampling Technique).\n",
    "\n",
    "What is SMOTE?\n",
    "\n",
    "* t creates synthetic (artificial) examples of the minority class (fraud).\n",
    "\n",
    "* Balances the data by increasing fraud samples."
   ]
  },
  {
   "cell_type": "code",
   "execution_count": 19,
   "id": "5602c1c8-56e4-4ca2-a32a-c7488b9aa79f",
   "metadata": {},
   "outputs": [],
   "source": [
    "from imblearn.over_sampling import SMOTE\n",
    "\n",
    "smote = SMOTE(random_state=42)\n",
    "X_train_resampled, y_train_resampled = smote.fit_resample(X_train, y_train)"
   ]
  },
  {
   "cell_type": "markdown",
   "id": "3a6c6bb6-959d-4d15-bdeb-54dd8ecf06a2",
   "metadata": {},
   "source": [
    "Explanation:\n",
    "\n",
    "* fit_resample() oversamples the minority class (fraud).\n",
    "\n",
    "* Now the number of fraud and non-fraud transactions in training data are equal."
   ]
  },
  {
   "cell_type": "markdown",
   "id": "6b34998a-15d2-418f-a897-d5b83ddb18c8",
   "metadata": {},
   "source": [
    "#### Check Class Balance After SMOTE"
   ]
  },
  {
   "cell_type": "code",
   "execution_count": 20,
   "id": "03021dd9-3dea-4bb1-8db2-ba5e2bcd5caf",
   "metadata": {},
   "outputs": [
    {
     "name": "stdout",
     "output_type": "stream",
     "text": [
      "Before SMOTE: Class\n",
      "0    227451\n",
      "1       394\n",
      "Name: count, dtype: int64\n",
      "After SMOTE: Class\n",
      "0    227451\n",
      "1    227451\n",
      "Name: count, dtype: int64\n"
     ]
    }
   ],
   "source": [
    "print(\"Before SMOTE:\", y_train.value_counts())\n",
    "print(\"After SMOTE:\", y_train_resampled.value_counts())"
   ]
  },
  {
   "cell_type": "markdown",
   "id": "d68b7e5a-d098-451d-aece-46738d5db0f2",
   "metadata": {},
   "source": [
    "* Before SMOTE:\n",
    "0 → 227451\n",
    "1 → 394\n",
    "After SMOTE:\n",
    "0 → 227451\n",
    "1 → 227451\n",
    "\n",
    "* Now both classes are balanced — perfect for training a fair model."
   ]
  },
  {
   "cell_type": "markdown",
   "id": "527c93bc-1544-4ea8-8439-4c4aae3cf92e",
   "metadata": {},
   "source": [
    "## STEP 4 : MODEL TRAINING & EVALUATION "
   ]
  },
  {
   "cell_type": "code",
   "execution_count": 21,
   "id": "17177985-638e-4731-9d7d-5de4cfd3cfb2",
   "metadata": {},
   "outputs": [],
   "source": [
    "from sklearn.linear_model import LogisticRegression\n",
    "from sklearn.ensemble import RandomForestClassifier\n",
    "from sklearn.metrics import (\n",
    "    accuracy_score, confusion_matrix, classification_report\n",
    ")"
   ]
  },
  {
   "cell_type": "markdown",
   "id": "896ee23b-d26a-483d-98aa-2b75c34703ff",
   "metadata": {},
   "source": [
    "Explanation:\n",
    "\n",
    "* LogisticRegression: Simple and fast baseline model.\n",
    "\n",
    "* RandomForestClassifier: Ensemble model, more powerful.\n",
    "\n",
    "* classification_report, confusion_matrix, accuracy_score: To evaluate performance."
   ]
  },
  {
   "cell_type": "code",
   "execution_count": 22,
   "id": "8249cbb0-c7f5-4a3b-b214-8fed9b912783",
   "metadata": {},
   "outputs": [
    {
     "data": {
      "text/html": [
       "<style>#sk-container-id-1 {\n",
       "  /* Definition of color scheme common for light and dark mode */\n",
       "  --sklearn-color-text: #000;\n",
       "  --sklearn-color-text-muted: #666;\n",
       "  --sklearn-color-line: gray;\n",
       "  /* Definition of color scheme for unfitted estimators */\n",
       "  --sklearn-color-unfitted-level-0: #fff5e6;\n",
       "  --sklearn-color-unfitted-level-1: #f6e4d2;\n",
       "  --sklearn-color-unfitted-level-2: #ffe0b3;\n",
       "  --sklearn-color-unfitted-level-3: chocolate;\n",
       "  /* Definition of color scheme for fitted estimators */\n",
       "  --sklearn-color-fitted-level-0: #f0f8ff;\n",
       "  --sklearn-color-fitted-level-1: #d4ebff;\n",
       "  --sklearn-color-fitted-level-2: #b3dbfd;\n",
       "  --sklearn-color-fitted-level-3: cornflowerblue;\n",
       "\n",
       "  /* Specific color for light theme */\n",
       "  --sklearn-color-text-on-default-background: var(--sg-text-color, var(--theme-code-foreground, var(--jp-content-font-color1, black)));\n",
       "  --sklearn-color-background: var(--sg-background-color, var(--theme-background, var(--jp-layout-color0, white)));\n",
       "  --sklearn-color-border-box: var(--sg-text-color, var(--theme-code-foreground, var(--jp-content-font-color1, black)));\n",
       "  --sklearn-color-icon: #696969;\n",
       "\n",
       "  @media (prefers-color-scheme: dark) {\n",
       "    /* Redefinition of color scheme for dark theme */\n",
       "    --sklearn-color-text-on-default-background: var(--sg-text-color, var(--theme-code-foreground, var(--jp-content-font-color1, white)));\n",
       "    --sklearn-color-background: var(--sg-background-color, var(--theme-background, var(--jp-layout-color0, #111)));\n",
       "    --sklearn-color-border-box: var(--sg-text-color, var(--theme-code-foreground, var(--jp-content-font-color1, white)));\n",
       "    --sklearn-color-icon: #878787;\n",
       "  }\n",
       "}\n",
       "\n",
       "#sk-container-id-1 {\n",
       "  color: var(--sklearn-color-text);\n",
       "}\n",
       "\n",
       "#sk-container-id-1 pre {\n",
       "  padding: 0;\n",
       "}\n",
       "\n",
       "#sk-container-id-1 input.sk-hidden--visually {\n",
       "  border: 0;\n",
       "  clip: rect(1px 1px 1px 1px);\n",
       "  clip: rect(1px, 1px, 1px, 1px);\n",
       "  height: 1px;\n",
       "  margin: -1px;\n",
       "  overflow: hidden;\n",
       "  padding: 0;\n",
       "  position: absolute;\n",
       "  width: 1px;\n",
       "}\n",
       "\n",
       "#sk-container-id-1 div.sk-dashed-wrapped {\n",
       "  border: 1px dashed var(--sklearn-color-line);\n",
       "  margin: 0 0.4em 0.5em 0.4em;\n",
       "  box-sizing: border-box;\n",
       "  padding-bottom: 0.4em;\n",
       "  background-color: var(--sklearn-color-background);\n",
       "}\n",
       "\n",
       "#sk-container-id-1 div.sk-container {\n",
       "  /* jupyter's `normalize.less` sets `[hidden] { display: none; }`\n",
       "     but bootstrap.min.css set `[hidden] { display: none !important; }`\n",
       "     so we also need the `!important` here to be able to override the\n",
       "     default hidden behavior on the sphinx rendered scikit-learn.org.\n",
       "     See: https://github.com/scikit-learn/scikit-learn/issues/21755 */\n",
       "  display: inline-block !important;\n",
       "  position: relative;\n",
       "}\n",
       "\n",
       "#sk-container-id-1 div.sk-text-repr-fallback {\n",
       "  display: none;\n",
       "}\n",
       "\n",
       "div.sk-parallel-item,\n",
       "div.sk-serial,\n",
       "div.sk-item {\n",
       "  /* draw centered vertical line to link estimators */\n",
       "  background-image: linear-gradient(var(--sklearn-color-text-on-default-background), var(--sklearn-color-text-on-default-background));\n",
       "  background-size: 2px 100%;\n",
       "  background-repeat: no-repeat;\n",
       "  background-position: center center;\n",
       "}\n",
       "\n",
       "/* Parallel-specific style estimator block */\n",
       "\n",
       "#sk-container-id-1 div.sk-parallel-item::after {\n",
       "  content: \"\";\n",
       "  width: 100%;\n",
       "  border-bottom: 2px solid var(--sklearn-color-text-on-default-background);\n",
       "  flex-grow: 1;\n",
       "}\n",
       "\n",
       "#sk-container-id-1 div.sk-parallel {\n",
       "  display: flex;\n",
       "  align-items: stretch;\n",
       "  justify-content: center;\n",
       "  background-color: var(--sklearn-color-background);\n",
       "  position: relative;\n",
       "}\n",
       "\n",
       "#sk-container-id-1 div.sk-parallel-item {\n",
       "  display: flex;\n",
       "  flex-direction: column;\n",
       "}\n",
       "\n",
       "#sk-container-id-1 div.sk-parallel-item:first-child::after {\n",
       "  align-self: flex-end;\n",
       "  width: 50%;\n",
       "}\n",
       "\n",
       "#sk-container-id-1 div.sk-parallel-item:last-child::after {\n",
       "  align-self: flex-start;\n",
       "  width: 50%;\n",
       "}\n",
       "\n",
       "#sk-container-id-1 div.sk-parallel-item:only-child::after {\n",
       "  width: 0;\n",
       "}\n",
       "\n",
       "/* Serial-specific style estimator block */\n",
       "\n",
       "#sk-container-id-1 div.sk-serial {\n",
       "  display: flex;\n",
       "  flex-direction: column;\n",
       "  align-items: center;\n",
       "  background-color: var(--sklearn-color-background);\n",
       "  padding-right: 1em;\n",
       "  padding-left: 1em;\n",
       "}\n",
       "\n",
       "\n",
       "/* Toggleable style: style used for estimator/Pipeline/ColumnTransformer box that is\n",
       "clickable and can be expanded/collapsed.\n",
       "- Pipeline and ColumnTransformer use this feature and define the default style\n",
       "- Estimators will overwrite some part of the style using the `sk-estimator` class\n",
       "*/\n",
       "\n",
       "/* Pipeline and ColumnTransformer style (default) */\n",
       "\n",
       "#sk-container-id-1 div.sk-toggleable {\n",
       "  /* Default theme specific background. It is overwritten whether we have a\n",
       "  specific estimator or a Pipeline/ColumnTransformer */\n",
       "  background-color: var(--sklearn-color-background);\n",
       "}\n",
       "\n",
       "/* Toggleable label */\n",
       "#sk-container-id-1 label.sk-toggleable__label {\n",
       "  cursor: pointer;\n",
       "  display: flex;\n",
       "  width: 100%;\n",
       "  margin-bottom: 0;\n",
       "  padding: 0.5em;\n",
       "  box-sizing: border-box;\n",
       "  text-align: center;\n",
       "  align-items: start;\n",
       "  justify-content: space-between;\n",
       "  gap: 0.5em;\n",
       "}\n",
       "\n",
       "#sk-container-id-1 label.sk-toggleable__label .caption {\n",
       "  font-size: 0.6rem;\n",
       "  font-weight: lighter;\n",
       "  color: var(--sklearn-color-text-muted);\n",
       "}\n",
       "\n",
       "#sk-container-id-1 label.sk-toggleable__label-arrow:before {\n",
       "  /* Arrow on the left of the label */\n",
       "  content: \"▸\";\n",
       "  float: left;\n",
       "  margin-right: 0.25em;\n",
       "  color: var(--sklearn-color-icon);\n",
       "}\n",
       "\n",
       "#sk-container-id-1 label.sk-toggleable__label-arrow:hover:before {\n",
       "  color: var(--sklearn-color-text);\n",
       "}\n",
       "\n",
       "/* Toggleable content - dropdown */\n",
       "\n",
       "#sk-container-id-1 div.sk-toggleable__content {\n",
       "  max-height: 0;\n",
       "  max-width: 0;\n",
       "  overflow: hidden;\n",
       "  text-align: left;\n",
       "  /* unfitted */\n",
       "  background-color: var(--sklearn-color-unfitted-level-0);\n",
       "}\n",
       "\n",
       "#sk-container-id-1 div.sk-toggleable__content.fitted {\n",
       "  /* fitted */\n",
       "  background-color: var(--sklearn-color-fitted-level-0);\n",
       "}\n",
       "\n",
       "#sk-container-id-1 div.sk-toggleable__content pre {\n",
       "  margin: 0.2em;\n",
       "  border-radius: 0.25em;\n",
       "  color: var(--sklearn-color-text);\n",
       "  /* unfitted */\n",
       "  background-color: var(--sklearn-color-unfitted-level-0);\n",
       "}\n",
       "\n",
       "#sk-container-id-1 div.sk-toggleable__content.fitted pre {\n",
       "  /* unfitted */\n",
       "  background-color: var(--sklearn-color-fitted-level-0);\n",
       "}\n",
       "\n",
       "#sk-container-id-1 input.sk-toggleable__control:checked~div.sk-toggleable__content {\n",
       "  /* Expand drop-down */\n",
       "  max-height: 200px;\n",
       "  max-width: 100%;\n",
       "  overflow: auto;\n",
       "}\n",
       "\n",
       "#sk-container-id-1 input.sk-toggleable__control:checked~label.sk-toggleable__label-arrow:before {\n",
       "  content: \"▾\";\n",
       "}\n",
       "\n",
       "/* Pipeline/ColumnTransformer-specific style */\n",
       "\n",
       "#sk-container-id-1 div.sk-label input.sk-toggleable__control:checked~label.sk-toggleable__label {\n",
       "  color: var(--sklearn-color-text);\n",
       "  background-color: var(--sklearn-color-unfitted-level-2);\n",
       "}\n",
       "\n",
       "#sk-container-id-1 div.sk-label.fitted input.sk-toggleable__control:checked~label.sk-toggleable__label {\n",
       "  background-color: var(--sklearn-color-fitted-level-2);\n",
       "}\n",
       "\n",
       "/* Estimator-specific style */\n",
       "\n",
       "/* Colorize estimator box */\n",
       "#sk-container-id-1 div.sk-estimator input.sk-toggleable__control:checked~label.sk-toggleable__label {\n",
       "  /* unfitted */\n",
       "  background-color: var(--sklearn-color-unfitted-level-2);\n",
       "}\n",
       "\n",
       "#sk-container-id-1 div.sk-estimator.fitted input.sk-toggleable__control:checked~label.sk-toggleable__label {\n",
       "  /* fitted */\n",
       "  background-color: var(--sklearn-color-fitted-level-2);\n",
       "}\n",
       "\n",
       "#sk-container-id-1 div.sk-label label.sk-toggleable__label,\n",
       "#sk-container-id-1 div.sk-label label {\n",
       "  /* The background is the default theme color */\n",
       "  color: var(--sklearn-color-text-on-default-background);\n",
       "}\n",
       "\n",
       "/* On hover, darken the color of the background */\n",
       "#sk-container-id-1 div.sk-label:hover label.sk-toggleable__label {\n",
       "  color: var(--sklearn-color-text);\n",
       "  background-color: var(--sklearn-color-unfitted-level-2);\n",
       "}\n",
       "\n",
       "/* Label box, darken color on hover, fitted */\n",
       "#sk-container-id-1 div.sk-label.fitted:hover label.sk-toggleable__label.fitted {\n",
       "  color: var(--sklearn-color-text);\n",
       "  background-color: var(--sklearn-color-fitted-level-2);\n",
       "}\n",
       "\n",
       "/* Estimator label */\n",
       "\n",
       "#sk-container-id-1 div.sk-label label {\n",
       "  font-family: monospace;\n",
       "  font-weight: bold;\n",
       "  display: inline-block;\n",
       "  line-height: 1.2em;\n",
       "}\n",
       "\n",
       "#sk-container-id-1 div.sk-label-container {\n",
       "  text-align: center;\n",
       "}\n",
       "\n",
       "/* Estimator-specific */\n",
       "#sk-container-id-1 div.sk-estimator {\n",
       "  font-family: monospace;\n",
       "  border: 1px dotted var(--sklearn-color-border-box);\n",
       "  border-radius: 0.25em;\n",
       "  box-sizing: border-box;\n",
       "  margin-bottom: 0.5em;\n",
       "  /* unfitted */\n",
       "  background-color: var(--sklearn-color-unfitted-level-0);\n",
       "}\n",
       "\n",
       "#sk-container-id-1 div.sk-estimator.fitted {\n",
       "  /* fitted */\n",
       "  background-color: var(--sklearn-color-fitted-level-0);\n",
       "}\n",
       "\n",
       "/* on hover */\n",
       "#sk-container-id-1 div.sk-estimator:hover {\n",
       "  /* unfitted */\n",
       "  background-color: var(--sklearn-color-unfitted-level-2);\n",
       "}\n",
       "\n",
       "#sk-container-id-1 div.sk-estimator.fitted:hover {\n",
       "  /* fitted */\n",
       "  background-color: var(--sklearn-color-fitted-level-2);\n",
       "}\n",
       "\n",
       "/* Specification for estimator info (e.g. \"i\" and \"?\") */\n",
       "\n",
       "/* Common style for \"i\" and \"?\" */\n",
       "\n",
       ".sk-estimator-doc-link,\n",
       "a:link.sk-estimator-doc-link,\n",
       "a:visited.sk-estimator-doc-link {\n",
       "  float: right;\n",
       "  font-size: smaller;\n",
       "  line-height: 1em;\n",
       "  font-family: monospace;\n",
       "  background-color: var(--sklearn-color-background);\n",
       "  border-radius: 1em;\n",
       "  height: 1em;\n",
       "  width: 1em;\n",
       "  text-decoration: none !important;\n",
       "  margin-left: 0.5em;\n",
       "  text-align: center;\n",
       "  /* unfitted */\n",
       "  border: var(--sklearn-color-unfitted-level-1) 1pt solid;\n",
       "  color: var(--sklearn-color-unfitted-level-1);\n",
       "}\n",
       "\n",
       ".sk-estimator-doc-link.fitted,\n",
       "a:link.sk-estimator-doc-link.fitted,\n",
       "a:visited.sk-estimator-doc-link.fitted {\n",
       "  /* fitted */\n",
       "  border: var(--sklearn-color-fitted-level-1) 1pt solid;\n",
       "  color: var(--sklearn-color-fitted-level-1);\n",
       "}\n",
       "\n",
       "/* On hover */\n",
       "div.sk-estimator:hover .sk-estimator-doc-link:hover,\n",
       ".sk-estimator-doc-link:hover,\n",
       "div.sk-label-container:hover .sk-estimator-doc-link:hover,\n",
       ".sk-estimator-doc-link:hover {\n",
       "  /* unfitted */\n",
       "  background-color: var(--sklearn-color-unfitted-level-3);\n",
       "  color: var(--sklearn-color-background);\n",
       "  text-decoration: none;\n",
       "}\n",
       "\n",
       "div.sk-estimator.fitted:hover .sk-estimator-doc-link.fitted:hover,\n",
       ".sk-estimator-doc-link.fitted:hover,\n",
       "div.sk-label-container:hover .sk-estimator-doc-link.fitted:hover,\n",
       ".sk-estimator-doc-link.fitted:hover {\n",
       "  /* fitted */\n",
       "  background-color: var(--sklearn-color-fitted-level-3);\n",
       "  color: var(--sklearn-color-background);\n",
       "  text-decoration: none;\n",
       "}\n",
       "\n",
       "/* Span, style for the box shown on hovering the info icon */\n",
       ".sk-estimator-doc-link span {\n",
       "  display: none;\n",
       "  z-index: 9999;\n",
       "  position: relative;\n",
       "  font-weight: normal;\n",
       "  right: .2ex;\n",
       "  padding: .5ex;\n",
       "  margin: .5ex;\n",
       "  width: min-content;\n",
       "  min-width: 20ex;\n",
       "  max-width: 50ex;\n",
       "  color: var(--sklearn-color-text);\n",
       "  box-shadow: 2pt 2pt 4pt #999;\n",
       "  /* unfitted */\n",
       "  background: var(--sklearn-color-unfitted-level-0);\n",
       "  border: .5pt solid var(--sklearn-color-unfitted-level-3);\n",
       "}\n",
       "\n",
       ".sk-estimator-doc-link.fitted span {\n",
       "  /* fitted */\n",
       "  background: var(--sklearn-color-fitted-level-0);\n",
       "  border: var(--sklearn-color-fitted-level-3);\n",
       "}\n",
       "\n",
       ".sk-estimator-doc-link:hover span {\n",
       "  display: block;\n",
       "}\n",
       "\n",
       "/* \"?\"-specific style due to the `<a>` HTML tag */\n",
       "\n",
       "#sk-container-id-1 a.estimator_doc_link {\n",
       "  float: right;\n",
       "  font-size: 1rem;\n",
       "  line-height: 1em;\n",
       "  font-family: monospace;\n",
       "  background-color: var(--sklearn-color-background);\n",
       "  border-radius: 1rem;\n",
       "  height: 1rem;\n",
       "  width: 1rem;\n",
       "  text-decoration: none;\n",
       "  /* unfitted */\n",
       "  color: var(--sklearn-color-unfitted-level-1);\n",
       "  border: var(--sklearn-color-unfitted-level-1) 1pt solid;\n",
       "}\n",
       "\n",
       "#sk-container-id-1 a.estimator_doc_link.fitted {\n",
       "  /* fitted */\n",
       "  border: var(--sklearn-color-fitted-level-1) 1pt solid;\n",
       "  color: var(--sklearn-color-fitted-level-1);\n",
       "}\n",
       "\n",
       "/* On hover */\n",
       "#sk-container-id-1 a.estimator_doc_link:hover {\n",
       "  /* unfitted */\n",
       "  background-color: var(--sklearn-color-unfitted-level-3);\n",
       "  color: var(--sklearn-color-background);\n",
       "  text-decoration: none;\n",
       "}\n",
       "\n",
       "#sk-container-id-1 a.estimator_doc_link.fitted:hover {\n",
       "  /* fitted */\n",
       "  background-color: var(--sklearn-color-fitted-level-3);\n",
       "}\n",
       "</style><div id=\"sk-container-id-1\" class=\"sk-top-container\"><div class=\"sk-text-repr-fallback\"><pre>LogisticRegression()</pre><b>In a Jupyter environment, please rerun this cell to show the HTML representation or trust the notebook. <br />On GitHub, the HTML representation is unable to render, please try loading this page with nbviewer.org.</b></div><div class=\"sk-container\" hidden><div class=\"sk-item\"><div class=\"sk-estimator fitted sk-toggleable\"><input class=\"sk-toggleable__control sk-hidden--visually\" id=\"sk-estimator-id-1\" type=\"checkbox\" checked><label for=\"sk-estimator-id-1\" class=\"sk-toggleable__label fitted sk-toggleable__label-arrow\"><div><div>LogisticRegression</div></div><div><a class=\"sk-estimator-doc-link fitted\" rel=\"noreferrer\" target=\"_blank\" href=\"https://scikit-learn.org/1.6/modules/generated/sklearn.linear_model.LogisticRegression.html\">?<span>Documentation for LogisticRegression</span></a><span class=\"sk-estimator-doc-link fitted\">i<span>Fitted</span></span></div></label><div class=\"sk-toggleable__content fitted\"><pre>LogisticRegression()</pre></div> </div></div></div></div>"
      ],
      "text/plain": [
       "LogisticRegression()"
      ]
     },
     "execution_count": 22,
     "metadata": {},
     "output_type": "execute_result"
    }
   ],
   "source": [
    "log_model = LogisticRegression()\n",
    "log_model.fit(X_train_resampled, y_train_resampled)"
   ]
  },
  {
   "cell_type": "markdown",
   "id": "69b91c8b-b79d-4dad-b602-472392b24953",
   "metadata": {},
   "source": [
    "Explanation:\n",
    "\n",
    "* The model learns from the balanced training data (after SMOTE).\n",
    "\n",
    "* Logistic Regression works well for linearly separable data — where the difference between fraud and non-fraud can be separated by a straight line."
   ]
  },
  {
   "cell_type": "code",
   "execution_count": 23,
   "id": "49334979-2a48-4ca0-9510-e82b11178825",
   "metadata": {},
   "outputs": [
    {
     "data": {
      "text/plain": [
       "array([0, 0, 0, ..., 0, 0, 0])"
      ]
     },
     "execution_count": 23,
     "metadata": {},
     "output_type": "execute_result"
    }
   ],
   "source": [
    "y_pred_log = log_model.predict(X_test)\n",
    "y_pred_log"
   ]
  },
  {
   "cell_type": "markdown",
   "id": "40fdb7d4-b6dd-4c73-bca3-21a2422c8923",
   "metadata": {},
   "source": [
    "Explanation:\n",
    "\n",
    "* We test our trained model on unseen data (X_test)."
   ]
  },
  {
   "cell_type": "code",
   "execution_count": 24,
   "id": "af2a5c01-3334-4d38-8361-1989c95b0751",
   "metadata": {},
   "outputs": [
    {
     "name": "stdout",
     "output_type": "stream",
     "text": [
      "Logistic Regression Performance:\n",
      "Accuracy: 0.9742635441171307\n",
      "Classification Report:\n",
      "               precision    recall  f1-score   support\n",
      "\n",
      "           0       1.00      0.97      0.99     56864\n",
      "           1       0.06      0.92      0.11        98\n",
      "\n",
      "    accuracy                           0.97     56962\n",
      "   macro avg       0.53      0.95      0.55     56962\n",
      "weighted avg       1.00      0.97      0.99     56962\n",
      "\n"
     ]
    }
   ],
   "source": [
    "print(\"Logistic Regression Performance:\")\n",
    "print(\"Accuracy:\", accuracy_score(y_test, y_pred_log))\n",
    "print(\"Classification Report:\\n\", classification_report(y_test, y_pred_log))"
   ]
  },
  {
   "cell_type": "markdown",
   "id": "94e7b6b6-ddea-4d74-9401-f57dc3d1da7f",
   "metadata": {},
   "source": [
    "Why Accuracy Alone is Misleading in Fraud Detection\n",
    "\n",
    "Let’s assume:\n",
    "\n",
    "* 99.8% transactions are non-fraud.\n",
    "\n",
    "* If the model predicts everything as Non-Fraud, it will still have 99.8% accuracy.\n",
    "\n",
    "👉 That’s useless because it never detects real frauds.\n",
    "\n",
    "So we must check:\n",
    "\n",
    "* Precision (Fraud class) → Of all transactions predicted as fraud, how many are actually fraud?\n",
    "\n",
    "* Recall (Fraud class) → Of all actual frauds, how many did the model detect?\n",
    "\n",
    "* We need a high Recall for class 1 to minimize missed frauds."
   ]
  },
  {
   "cell_type": "markdown",
   "id": "e59ec240-c9a6-42b7-91d7-5677111c745d",
   "metadata": {},
   "source": [
    "Expected Results:\n",
    "\n",
    "* Accuracy: Around 97–99%\n",
    "\n",
    "* But — ⚠️ be careful!\n",
    "High accuracy doesn’t always mean good fraud detection."
   ]
  },
  {
   "cell_type": "code",
   "execution_count": 25,
   "id": "4ae2e0c9-40b9-4467-8629-f0045c7a78d8",
   "metadata": {},
   "outputs": [
    {
     "data": {
      "image/png": "[encoded data removed]",
      "text/plain": [
       "<Figure size 400x300 with 2 Axes>"
      ]
     },
     "metadata": {},
     "output_type": "display_data"
    }
   ],
   "source": [
    "cm_log = confusion_matrix(y_test, y_pred_log)\n",
    "\n",
    "plt.figure(figsize=(4,3))\n",
    "sns.heatmap(cm_log, annot=True, fmt='d', cmap='Blues')\n",
    "plt.title('Confusion Matrix - Logistic Regression')\n",
    "plt.xlabel('Predicted')\n",
    "plt.ylabel('Actual')\n",
    "plt.show()"
   ]
  },
  {
   "cell_type": "markdown",
   "id": "636fdada-d28a-4a10-afbd-3533a4dd9aee",
   "metadata": {},
   "source": [
    "### Understanding Each Term\n",
    "\n",
    "True Negatives (TN) = 55,406\n",
    "→ These are non-fraud transactions that were correctly predicted as non-fraud.\n",
    "(Model was correct)\n",
    "\n",
    "False Positives (FP) = 1,458\n",
    "→ These are non-fraud transactions that were wrongly predicted as fraud.\n",
    "(Model falsely flagged them as fraud — also known as a Type I Error)\n",
    "\n",
    "False Negatives (FN) = 8\n",
    "→ These are fraud transactions that were wrongly predicted as non-fraud.\n",
    "(Model missed these frauds — Type II Error, very critical in fraud detection)\n",
    "\n",
    "True Positives (TP) = 90\n",
    "→ These are fraud transactions that were correctly predicted as fraud.\n",
    "(Model correctly caught the fraud)"
   ]
  },
  {
   "cell_type": "code",
   "execution_count": 26,
   "id": "d35e1ad4-2312-4362-bd5d-9fc59124b1e0",
   "metadata": {},
   "outputs": [],
   "source": [
    "from sklearn.ensemble import RandomForestClassifier\n",
    "\n",
    "rfc = RandomForestClassifier(\n",
    "    n_estimators=50,       # Fewer trees\n",
    "    max_depth=10,          # Shallower trees\n",
    "    n_jobs=-1,             # Use all CPU cores\n",
    "    random_state=42\n",
    ")\n",
    "rfc.fit(X_train_resampled, y_train_resampled)\n",
    "y_pred_rf = rfc.predict(X_test)"
   ]
  },
  {
   "cell_type": "code",
   "execution_count": 27,
   "id": "58abacde-629e-4764-9425-061f1a14fbf6",
   "metadata": {},
   "outputs": [
    {
     "name": "stdout",
     "output_type": "stream",
     "text": [
      "Accuracy: 0.9978406657069625\n",
      "Confusion Matrix:\n",
      " [[56753   111]\n",
      " [   12    86]]\n",
      "Classification Report:\n",
      "               precision    recall  f1-score   support\n",
      "\n",
      "           0       1.00      1.00      1.00     56864\n",
      "           1       0.44      0.88      0.58        98\n",
      "\n",
      "    accuracy                           1.00     56962\n",
      "   macro avg       0.72      0.94      0.79     56962\n",
      "weighted avg       1.00      1.00      1.00     56962\n",
      "\n"
     ]
    }
   ],
   "source": [
    "print(\"Accuracy:\", accuracy_score(y_test, y_pred_rf))\n",
    "print(\"Confusion Matrix:\\n\", confusion_matrix(y_test, y_pred_rf))\n",
    "print(\"Classification Report:\\n\", classification_report(y_test, y_pred_rf))"
   ]
  },
  {
   "cell_type": "markdown",
   "id": "ff9fe275-821f-4880-a077-0b5ff116480d",
   "metadata": {},
   "source": [
    "Why use Random Forest if Logistic Regression gives 97% accuracy?\n",
    "\n",
    "| Reason                                | Explanation                                                                                            |\n",
    "| ------------------------------------- | ------------------------------------------------------------------------------------------------------ |\n",
    "| 🌲 **Handles Non-linear Data**        | Fraud patterns are complex and not linearly separable; RF can capture non-linear relationships easily. |\n",
    "| 🔁 **Reduces Overfitting**            | Uses multiple decision trees and averages them — making it more generalizable.                         |\n",
    "| ⚖️ **Handles Imbalanced Data Better** | Random Forest uses class weights and bootstrapping to learn minority class patterns more effectively.  |\n",
    "| 🔍 **Feature Importance**             | Tells us which features (V1–V28, Amount, etc.) are most influential in detecting fraud.                |\n",
    "| 🎯 **Better Recall**                  | Usually detects more fraud cases (improved recall on class 1).                                         |"
   ]
  },
  {
   "cell_type": "markdown",
   "id": "3ba8796a-48b0-4d1d-87dd-a1d214f8e47b",
   "metadata": {},
   "source": [
    "Output:\n",
    "\n",
    "* Accuracy: 98–99%\n",
    "\n",
    "* Precision and Recall (Class 1) both improved\n",
    "→ Detects more fraudulent transactions."
   ]
  },
  {
   "cell_type": "markdown",
   "id": "acdbe75a-5f76-476b-b9bb-f63951c40775",
   "metadata": {},
   "source": [
    "### Compare Both Models :\n",
    "\n",
    "| Metric              | Logistic Regression | Random Forest |\n",
    "| ------------------- | ------------------- | ------------- |\n",
    "| Accuracy            | ~97–98%             | ~98–99%       |\n",
    "| Precision (Fraud)   | Moderate            | High          |\n",
    "| Recall (Fraud)      | Low                 | High          |\n",
    "| Explainability      | High (simple)       | Medium        |\n",
    "| Complexity          | Low                 | High          |\n",
    "| Non-linear Handling | ❌ No                | ✅ Yes         |"
   ]
  },
  {
   "cell_type": "markdown",
   "id": "9120f9b0-66db-4ea0-a183-d3e133ea06e2",
   "metadata": {},
   "source": [
    "### Feature Importance (From Random Forest) :"
   ]
  },
  {
   "cell_type": "code",
   "execution_count": 28,
   "id": "c4487d93-51b0-4395-993a-be1fde5e608e",
   "metadata": {},
   "outputs": [
    {
     "data": {
      "image/png": "[encoded data removed]",
      "text/plain": [
       "<Figure size 800x500 with 1 Axes>"
      ]
     },
     "metadata": {},
     "output_type": "display_data"
    }
   ],
   "source": [
    "import numpy as np\n",
    "\n",
    "importances = rfc.feature_importances_\n",
    "indices = np.argsort(importances)[::-1]\n",
    "\n",
    "plt.figure(figsize=(8,5))\n",
    "plt.title(\"Feature Importance - Random Forest\")\n",
    "plt.bar(range(10), importances[indices][:10], align='center')\n",
    "plt.xticks(range(10), X.columns[indices][:10], rotation=45)\n",
    "plt.tight_layout()\n",
    "plt.show()"
   ]
  },
  {
   "cell_type": "markdown",
   "id": "4b76f74d-40fe-4184-8f15-d02b1c33fbd3",
   "metadata": {},
   "source": [
    "Explanation:\n",
    "\n",
    "* Shows which features influence fraud detection the most.\n",
    "\n",
    "* Helps in feature selection or further analysis."
   ]
  },
  {
   "cell_type": "markdown",
   "id": "81ffe2eb-04af-42a6-8945-2a7a1a0300f0",
   "metadata": {},
   "source": [
    "#### Why use feature_importances_:\n",
    "\n",
    "* Tree-based models (like Random Forest, XGBoost) naturally compute how much each feature helps in reducing classification errors.\n",
    "\n",
    "* This gives valuable insights for fraud pattern analysis."
   ]
  },
  {
   "cell_type": "markdown",
   "id": "34912bf0-72c5-482d-a4d1-c45e7cf35813",
   "metadata": {},
   "source": [
    "### OUTCOME :\n",
    "\n",
    "Even though Logistic Regression gives high accuracy, Random Forest (and later XGBoost or LightGBM) will usually give better recall, meaning fewer missed fraud cases, which is far more important in real-world fraud detection."
   ]
  },
  {
   "cell_type": "markdown",
   "id": "dd610a76-1e67-4899-a10d-1aee87f61238",
   "metadata": {},
   "source": [
    "## Step 5 — Advanced models: Decision Tree & XGBoost, with ROC curve & AUC comparison :"
   ]
  },
  {
   "cell_type": "code",
   "execution_count": 29,
   "id": "a2c8be70-8429-4835-90b9-21d8417765a9",
   "metadata": {},
   "outputs": [
    {
     "name": "stdout",
     "output_type": "stream",
     "text": [
      "Libraries imported successfully.\n"
     ]
    }
   ],
   "source": [
    "from sklearn.tree import DecisionTreeClassifier\n",
    "from xgboost import XGBClassifier\n",
    "from sklearn.metrics import roc_curve, roc_auc_score, classification_report, confusion_matrix\n",
    "\n",
    "print(\"Libraries imported successfully.\")"
   ]
  },
  {
   "cell_type": "markdown",
   "id": "f3c6e311-68f5-42e6-8fd0-f53927d9ec8a",
   "metadata": {},
   "source": [
    "Explanation:\n",
    "\n",
    "* DecisionTreeClassifier → builds a tree to separate fraud/non-fraud based on features.\n",
    "\n",
    "* XGBClassifier → a powerful boosting model that often gives higher recall and AUC.\n",
    "\n",
    "* roc_curve & roc_auc_score → for plotting and comparing model performance.\n",
    "\n",
    "* classification_report & confusion_matrix → to check precision, recall, F1-score."
   ]
  },
  {
   "cell_type": "code",
   "execution_count": 30,
   "id": "3fb99784-c8e6-4fb6-ba43-5ee12eb895c6",
   "metadata": {},
   "outputs": [
    {
     "name": "stdout",
     "output_type": "stream",
     "text": [
      "Decision Tree trained successfully.\n"
     ]
    }
   ],
   "source": [
    "# ----- Step 2: Train Decision Tree -----\n",
    "dt_model = DecisionTreeClassifier(\n",
    "    max_depth=6,          # limits depth to reduce overfitting\n",
    "    min_samples_leaf=20,  # minimum samples per leaf\n",
    "    random_state=42\n",
    ")\n",
    "dt_model.fit(X_train, y_train)\n",
    "print(\"Decision Tree trained successfully.\")"
   ]
  },
  {
   "cell_type": "markdown",
   "id": "52b63da8-daba-48d3-af88-c5275dd28040",
   "metadata": {},
   "source": [
    "Explanation:\n",
    "\n",
    "* Decision Tree can capture non-linear patterns.\n",
    "\n",
    "* Limiting max_depth and using min_samples_leaf avoids overfitting to noise."
   ]
  },
  {
   "cell_type": "code",
   "execution_count": 31,
   "id": "ec4b43c1-c84e-4d6a-bfbb-7b1a82a32038",
   "metadata": {},
   "outputs": [
    {
     "name": "stdout",
     "output_type": "stream",
     "text": [
      "XGBoost trained successfully.\n"
     ]
    }
   ],
   "source": [
    "# ----- Step 3: Train XGBoost -----\n",
    "xgb_model = XGBClassifier(\n",
    "    n_estimators=200,      # number of trees\n",
    "    max_depth=4,           # max depth of each tree\n",
    "    learning_rate=0.1,     # step size for boosting\n",
    "    subsample=0.8,         # fraction of samples per tree\n",
    "    colsample_bytree=0.8,  # fraction of features per tree\n",
    "    use_label_encoder=False,\n",
    "    eval_metric='logloss',\n",
    "    random_state=42\n",
    ")\n",
    "xgb_model.fit(X_train, y_train)\n",
    "print(\"XGBoost trained successfully.\")"
   ]
  },
  {
   "cell_type": "markdown",
   "id": "1031f9f1-b1c9-41f8-9f19-62dcbedf133b",
   "metadata": {},
   "source": [
    "Explanation:\n",
    "\n",
    "* XGBoost is an ensemble boosting model that sequentially learns from errors of previous trees.\n",
    "\n",
    "* It usually improves recall and AUC compared to a single Decision Tree or Logistic Regression."
   ]
  },
  {
   "cell_type": "code",
   "execution_count": 32,
   "id": "278f239f-433a-4161-b876-d2cfeb326d84",
   "metadata": {},
   "outputs": [],
   "source": [
    "# ----- Step 4: Make predictions & probabilities -----\n",
    "# Probabilities needed for ROC/AUC calculation\n",
    "y_prob_dt = dt_model.predict_proba(X_test)[:,1]   # probability for fraud class\n",
    "y_prob_xgb = xgb_model.predict_proba(X_test)[:,1]\n",
    "\n",
    "# Binary predictions using default threshold 0.5\n",
    "y_pred_dt = dt_model.predict(X_test)\n",
    "y_pred_xgb = xgb_model.predict(X_test)"
   ]
  },
  {
   "cell_type": "markdown",
   "id": "e26aafe3-93e5-45e2-83ba-abd3981914c8",
   "metadata": {},
   "source": [
    "Explanation:\n",
    "\n",
    "* predict_proba gives probability of each class.\n",
    "\n",
    "* ROC/AUC uses probabilities, not just 0/1 predictions."
   ]
  },
  {
   "cell_type": "code",
   "execution_count": 33,
   "id": "096ee9de-478c-4648-b8d1-f70045231c33",
   "metadata": {},
   "outputs": [
    {
     "name": "stdout",
     "output_type": "stream",
     "text": [
      "Decision Tree AUC: 0.9421\n",
      "XGBoost AUC:       0.9846\n"
     ]
    }
   ],
   "source": [
    "# ----- Step 5: Compute ROC curves & AUC -----\n",
    "fpr_dt, tpr_dt, _ = roc_curve(y_test, y_prob_dt)\n",
    "fpr_xgb, tpr_xgb, _ = roc_curve(y_test, y_prob_xgb)\n",
    "\n",
    "auc_dt = roc_auc_score(y_test, y_prob_dt)\n",
    "auc_xgb = roc_auc_score(y_test, y_prob_xgb)\n",
    "\n",
    "print(f\"Decision Tree AUC: {auc_dt:.4f}\")\n",
    "print(f\"XGBoost AUC:       {auc_xgb:.4f}\")"
   ]
  },
  {
   "cell_type": "markdown",
   "id": "ad6fa315-3f1e-4243-9364-adb43e772434",
   "metadata": {},
   "source": [
    "Explanation:\n",
    "\n",
    "* ROC curve shows trade-off between True Positive Rate (recall) and False Positive Rate.\n",
    "\n",
    "* AUC (Area Under Curve) summarizes ROC; higher AUC → better model ranking of frauds."
   ]
  },
  {
   "cell_type": "code",
   "execution_count": 34,
   "id": "24f559e5-acf9-40b5-a44c-6ebdd62e2e60",
   "metadata": {},
   "outputs": [
    {
     "data": {
      "image/png": "[encoded data removed]",
      "text/plain": [
       "<Figure size 800x600 with 1 Axes>"
      ]
     },
     "metadata": {},
     "output_type": "display_data"
    }
   ],
   "source": [
    "# ----- Step 6: Plot ROC curves -----\n",
    "plt.figure(figsize=(8,6))\n",
    "plt.plot(fpr_dt, tpr_dt, label=f\"Decision Tree (AUC={auc_dt:.4f})\")\n",
    "plt.plot(fpr_xgb, tpr_xgb, label=f\"XGBoost (AUC={auc_xgb:.4f})\")\n",
    "plt.plot([0,1],[0,1],'k--', alpha=0.5) # random baseline\n",
    "plt.xlabel(\"False Positive Rate\")\n",
    "plt.ylabel(\"True Positive Rate (Recall)\")\n",
    "plt.title(\"ROC Curve — Decision Tree vs XGBoost\")\n",
    "plt.legend(loc=\"lower right\")\n",
    "plt.grid(True)\n",
    "plt.show()"
   ]
  },
  {
   "cell_type": "markdown",
   "id": "b78e4807-1f6d-4e31-be12-0aa8aaad86b6",
   "metadata": {},
   "source": [
    "* Visual comparison of models.\n",
    "\n",
    "* A curve closer to top-left corner = better performance."
   ]
  },
  {
   "cell_type": "code",
   "execution_count": 35,
   "id": "0a7760e7-8a8a-4b08-8607-5569d160e2b9",
   "metadata": {},
   "outputs": [
    {
     "name": "stdout",
     "output_type": "stream",
     "text": [
      "Decision Tree Classification Report:\n",
      "              precision    recall  f1-score   support\n",
      "\n",
      "           0     0.9995    0.9997    0.9996     56864\n",
      "           1     0.8161    0.7245    0.7676        98\n",
      "\n",
      "    accuracy                         0.9992     56962\n",
      "   macro avg     0.9078    0.8621    0.8836     56962\n",
      "weighted avg     0.9992    0.9992    0.9992     56962\n",
      "\n",
      "Decision Tree Confusion Matrix:\n",
      "[[56848    16]\n",
      " [   27    71]]\n",
      "\n",
      "XGBoost Classification Report:\n",
      "              precision    recall  f1-score   support\n",
      "\n",
      "           0     0.9996    0.9999    0.9998     56864\n",
      "           1     0.9390    0.7857    0.8556        98\n",
      "\n",
      "    accuracy                         0.9995     56962\n",
      "   macro avg     0.9693    0.8928    0.9277     56962\n",
      "weighted avg     0.9995    0.9995    0.9995     56962\n",
      "\n",
      "XGBoost Confusion Matrix:\n",
      "[[56859     5]\n",
      " [   21    77]]\n"
     ]
    }
   ],
   "source": [
    "# ----- Step 7: Confusion Matrix & Classification Report -----\n",
    "print(\"Decision Tree Classification Report:\")\n",
    "print(classification_report(y_test, y_pred_dt, digits=4))\n",
    "print(\"Decision Tree Confusion Matrix:\")\n",
    "print(confusion_matrix(y_test, y_pred_dt))\n",
    "\n",
    "print(\"\\nXGBoost Classification Report:\")\n",
    "print(classification_report(y_test, y_pred_xgb, digits=4))\n",
    "print(\"XGBoost Confusion Matrix:\")\n",
    "print(confusion_matrix(y_test, y_pred_xgb))"
   ]
  },
  {
   "cell_type": "markdown",
   "id": "4e5f66ac-edee-45c4-b1b1-91de33de204e",
   "metadata": {},
   "source": [
    "Explanation:\n",
    "\n",
    "* Confusion matrix shows TP, FP, TN, FN.\n",
    "\n",
    "* In fraud detection, recall for fraud class (1) is most important — catching as many frauds as possible."
   ]
  },
  {
   "cell_type": "markdown",
   "id": "9ea9831a-cb16-4abd-a4fb-4fc883b9db6f",
   "metadata": {},
   "source": [
    "#### Summary of Step 5: \n",
    "\n",
    "* Decision Tree → simple nonlinear model, interpretable.\n",
    "\n",
    "* XGBoost → ensemble boosting model, captures complex patterns → usually better recall & AUC.\n",
    "\n",
    "* ROC & AUC → compare models beyond accuracy.\n",
    "\n",
    "* Confusion matrix & classification report → check fraud detection performance."
   ]
  },
  {
   "cell_type": "markdown",
   "id": "db66ff0e-d476-49e0-969b-497761e14601",
   "metadata": {},
   "source": [
    "# step 6 : Evaluate and Compare All Models "
   ]
  },
  {
   "cell_type": "markdown",
   "id": "df0d7f69-3dd5-48e4-825e-4619119119df",
   "metadata": {},
   "source": [
    "### Purpose:\n",
    "\n",
    "We need to know which model performs best — not just based on accuracy, but on how well it detects frauds (Class = 1).\n",
    "\n",
    "Accuracy alone can be misleading because the data is highly imbalanced.\n",
    "\n",
    "So, we’ll use:\n",
    "\n",
    "* Precision – How many predicted frauds are actually frauds\n",
    "\n",
    "* Recall – How many actual frauds were correctly found\n",
    "\n",
    "* F1-Score – Balance between precision and recall\n",
    "\n",
    "* AUC (Area Under ROC Curve) – Measures model’s ability to separate classes\n",
    "\n",
    "Why we do this step:\n",
    "\n",
    "* To understand how each model performs beyond accuracy, focusing on catching fraud cases effectively."
   ]
  },
  {
   "cell_type": "markdown",
   "id": "6b853155-c3d2-4ade-8a27-75ec6b78d08a",
   "metadata": {},
   "source": [
    "### Compare All Model Metrics :"
   ]
  },
  {
   "cell_type": "code",
   "execution_count": 36,
   "id": "51365046-3c44-4d4e-ba0e-cbff72f3aa71",
   "metadata": {},
   "outputs": [
    {
     "name": "stdout",
     "output_type": "stream",
     "text": [
      "\n",
      " Logistic Regression Performance \n",
      "Accuracy: 0.9743\n",
      "AUC Score: 0.9698\n",
      "Classification Report:\n",
      "               precision    recall  f1-score   support\n",
      "\n",
      "           0       1.00      0.97      0.99     56864\n",
      "           1       0.06      0.92      0.11        98\n",
      "\n",
      "    accuracy                           0.97     56962\n",
      "   macro avg       0.53      0.95      0.55     56962\n",
      "weighted avg       1.00      0.97      0.99     56962\n",
      "\n",
      "\n",
      " Random Forest Performance \n",
      "Accuracy: 0.9978\n",
      "AUC Score: 0.9843\n",
      "Classification Report:\n",
      "               precision    recall  f1-score   support\n",
      "\n",
      "           0       1.00      1.00      1.00     56864\n",
      "           1       0.44      0.88      0.58        98\n",
      "\n",
      "    accuracy                           1.00     56962\n",
      "   macro avg       0.72      0.94      0.79     56962\n",
      "weighted avg       1.00      1.00      1.00     56962\n",
      "\n",
      "\n",
      " Decision Tree Performance \n",
      "Accuracy: 0.9992\n",
      "AUC Score: 0.9421\n",
      "Classification Report:\n",
      "               precision    recall  f1-score   support\n",
      "\n",
      "           0       1.00      1.00      1.00     56864\n",
      "           1       0.82      0.72      0.77        98\n",
      "\n",
      "    accuracy                           1.00     56962\n",
      "   macro avg       0.91      0.86      0.88     56962\n",
      "weighted avg       1.00      1.00      1.00     56962\n",
      "\n",
      "\n",
      " XGBoost Performance \n",
      "Accuracy: 0.9995\n",
      "AUC Score: 0.9846\n",
      "Classification Report:\n",
      "               precision    recall  f1-score   support\n",
      "\n",
      "           0       1.00      1.00      1.00     56864\n",
      "           1       0.94      0.79      0.86        98\n",
      "\n",
      "    accuracy                           1.00     56962\n",
      "   macro avg       0.97      0.89      0.93     56962\n",
      "weighted avg       1.00      1.00      1.00     56962\n",
      "\n"
     ]
    }
   ],
   "source": [
    "from sklearn.metrics import classification_report, roc_auc_score, accuracy_score\n",
    "\n",
    "models = {\n",
    "    \"Logistic Regression\": log_model,\n",
    "    \"Random Forest\": rfc,\n",
    "    \"Decision Tree\": dt_model,\n",
    "    \"XGBoost\": xgb_model\n",
    "}\n",
    "\n",
    "for name, model in models.items():\n",
    "    y_pred = model.predict(X_test)\n",
    "    y_prob = model.predict_proba(X_test)[:, 1]  # For AUC score\n",
    "    print(f\"\\n {name} Performance \")\n",
    "    print(\"Accuracy:\", round(accuracy_score(y_test, y_pred), 4))\n",
    "    print(\"AUC Score:\", round(roc_auc_score(y_test, y_prob), 4))\n",
    "    print(\"Classification Report:\\n\", classification_report(y_test, y_pred))"
   ]
  },
  {
   "cell_type": "markdown",
   "id": "25a59559-5e1d-45f7-9609-b47a1e3e8655",
   "metadata": {},
   "source": [
    "#### Explanation of functions:\n",
    "\n",
    "* accuracy_score() → Measures total correct predictions.\n",
    "\n",
    "* roc_auc_score() → Measures model’s ability to distinguish frauds vs non-frauds.\n",
    "\n",
    "* classification_report() → Gives precision, recall, and F1-score per class.\n",
    "\n",
    "* predict_proba() → Returns the probability of being fraud (used for ROC/AUC)."
   ]
  },
  {
   "cell_type": "markdown",
   "id": "48d9af73-9f6f-43f2-9921-4f503c87863b",
   "metadata": {},
   "source": [
    "# Step 7: ROC Curve Visualization (Model Comparison)"
   ]
  },
  {
   "cell_type": "markdown",
   "id": "e909eff5-1131-47a5-9d7d-59c1dce8b3e8",
   "metadata": {},
   "source": [
    "Purpose:\n",
    "\n",
    "* ROC (Receiver Operating Characteristic) curve helps visualize how well the model separates classes.\n",
    "\n",
    "* It plots True Positive Rate (Recall) vs False Positive Rate."
   ]
  },
  {
   "cell_type": "code",
   "execution_count": 37,
   "id": "ff6c1485-d681-45fd-8207-17c2d7471982",
   "metadata": {},
   "outputs": [
    {
     "data": {
      "image/png": "[encoded data removed]",
      "text/plain": [
       "<Figure size 700x600 with 1 Axes>"
      ]
     },
     "metadata": {},
     "output_type": "display_data"
    }
   ],
   "source": [
    "from sklearn.metrics import roc_curve, auc\n",
    "\n",
    "plt.figure(figsize=(7,6))\n",
    "\n",
    "for name, model in models.items():\n",
    "    y_prob = model.predict_proba(X_test)[:, 1]\n",
    "    fpr, tpr, _ = roc_curve(y_test, y_prob)\n",
    "    plt.plot(fpr, tpr, label=f'{name} (AUC = {auc(fpr, tpr):.3f})')\n",
    "\n",
    "plt.plot([0, 1], [0, 1], 'k--')  # diagonal line for random chance\n",
    "plt.title('ROC Curve Comparison')\n",
    "plt.xlabel('False Positive Rate')\n",
    "plt.ylabel('True Positive Rate')\n",
    "plt.legend()\n",
    "plt.show()"
   ]
  },
  {
   "cell_type": "markdown",
   "id": "9a6a3432-8e2a-4399-ac72-37ecbef33b20",
   "metadata": {},
   "source": [
    "#### Why use this:\n",
    "\n",
    "* A model closer to the top-left corner performs best.\n",
    "\n",
    "* The AUC value (Area Under Curve) shows how well the model can differentiate classes.\n",
    "\n",
    "* AUC ≈ 1 → perfect model\n",
    "\n",
    "* AUC ≈ 0.5 → random guessing"
   ]
  },
  {
   "cell_type": "markdown",
   "id": "618c754d-479c-463b-b8e1-8f2931449ec1",
   "metadata": {},
   "source": [
    "# Step 8: Save the Best Model for Deployment :"
   ]
  },
  {
   "cell_type": "markdown",
   "id": "363f7af4-1487-4914-9ec0-9d024a853f90",
   "metadata": {},
   "source": [
    "### Purpose:\n",
    "\n",
    "* After evaluation, you’ll want to save the model to reuse or deploy it (e.g., in a Streamlit app)."
   ]
  },
  {
   "cell_type": "code",
   "execution_count": 38,
   "id": "bbb342ac-db41-4c80-bf5e-dae5d1380e2f",
   "metadata": {},
   "outputs": [
    {
     "data": {
      "text/plain": [
       "['fraud_detection_model.pkl']"
      ]
     },
     "execution_count": 38,
     "metadata": {},
     "output_type": "execute_result"
    }
   ],
   "source": [
    "import joblib\n",
    "\n",
    "# Save the best-performing model (e.g., XGBoost)\n",
    "joblib.dump(xgb_model, \"fraud_detection_model.pkl\")\n",
    "\n",
    "# Later you can load it back\n",
    "# model = joblib.load(\"fraud_detection_model.pkl\")"
   ]
  },
  {
   "cell_type": "markdown",
   "id": "e6fdab30-42e2-4331-9d15-4604230751bc",
   "metadata": {},
   "source": [
    "#### Why use joblib:\n",
    "\n",
    "* Efficient for saving large ML models.\n",
    "\n",
    "* Keeps preprocessing pipeline and model parameters intact for reuse."
   ]
  },
  {
   "cell_type": "code",
   "execution_count": 39,
   "id": "a38cf5d9-8474-47ac-a0b8-f73d576383ab",
   "metadata": {},
   "outputs": [
    {
     "data": {
      "text/plain": [
       "['model.pkl']"
      ]
     },
     "execution_count": 39,
     "metadata": {},
     "output_type": "execute_result"
    }
   ],
   "source": [
    "joblib.dump(model, 'model.pkl')"
   ]
  },
  {
   "cell_type": "code",
   "execution_count": 40,
   "id": "3201e0f6-6771-4fa5-bfae-e24e7a04c0aa",
   "metadata": {},
   "outputs": [
    {
     "data": {
      "text/plain": [
       "['scaler.pkl']"
      ]
     },
     "execution_count": 40,
     "metadata": {},
     "output_type": "execute_result"
    }
   ],
   "source": [
    "joblib.dump(scaler, 'scaler.pkl')"
   ]
  },
  {
   "cell_type": "code",
   "execution_count": 41,
   "id": "cf418249-4b18-44b4-9a57-0830ca2298cd",
   "metadata": {},
   "outputs": [
    {
     "data": {
      "text/html": [
       "<div>\n",
       "<style scoped>\n",
       "    .dataframe tbody tr th:only-of-type {\n",
       "        vertical-align: middle;\n",
       "    }\n",
       "\n",
       "    .dataframe tbody tr th {\n",
       "        vertical-align: top;\n",
       "    }\n",
       "\n",
       "    .dataframe thead th {\n",
       "        text-align: right;\n",
       "    }\n",
       "</style>\n",
       "<table border=\"1\" class=\"dataframe\">\n",
       "  <thead>\n",
       "    <tr style=\"text-align: right;\">\n",
       "      <th></th>\n",
       "      <th>Time</th>\n",
       "      <th>V1</th>\n",
       "      <th>V2</th>\n",
       "      <th>V3</th>\n",
       "      <th>V4</th>\n",
       "      <th>V5</th>\n",
       "      <th>V6</th>\n",
       "      <th>V7</th>\n",
       "      <th>V8</th>\n",
       "      <th>V9</th>\n",
       "      <th>...</th>\n",
       "      <th>V21</th>\n",
       "      <th>V22</th>\n",
       "      <th>V23</th>\n",
       "      <th>V24</th>\n",
       "      <th>V25</th>\n",
       "      <th>V26</th>\n",
       "      <th>V27</th>\n",
       "      <th>V28</th>\n",
       "      <th>Amount</th>\n",
       "      <th>Class</th>\n",
       "    </tr>\n",
       "  </thead>\n",
       "  <tbody>\n",
       "    <tr>\n",
       "      <th>0</th>\n",
       "      <td>0.0</td>\n",
       "      <td>-1.359807</td>\n",
       "      <td>-0.072781</td>\n",
       "      <td>2.536347</td>\n",
       "      <td>1.378155</td>\n",
       "      <td>-0.338321</td>\n",
       "      <td>0.462388</td>\n",
       "      <td>0.239599</td>\n",
       "      <td>0.098698</td>\n",
       "      <td>0.363787</td>\n",
       "      <td>...</td>\n",
       "      <td>-0.018307</td>\n",
       "      <td>0.277838</td>\n",
       "      <td>-0.110474</td>\n",
       "      <td>0.066928</td>\n",
       "      <td>0.128539</td>\n",
       "      <td>-0.189115</td>\n",
       "      <td>0.133558</td>\n",
       "      <td>-0.021053</td>\n",
       "      <td>149.62</td>\n",
       "      <td>0</td>\n",
       "    </tr>\n",
       "    <tr>\n",
       "      <th>1</th>\n",
       "      <td>0.0</td>\n",
       "      <td>1.191857</td>\n",
       "      <td>0.266151</td>\n",
       "      <td>0.166480</td>\n",
       "      <td>0.448154</td>\n",
       "      <td>0.060018</td>\n",
       "      <td>-0.082361</td>\n",
       "      <td>-0.078803</td>\n",
       "      <td>0.085102</td>\n",
       "      <td>-0.255425</td>\n",
       "      <td>...</td>\n",
       "      <td>-0.225775</td>\n",
       "      <td>-0.638672</td>\n",
       "      <td>0.101288</td>\n",
       "      <td>-0.339846</td>\n",
       "      <td>0.167170</td>\n",
       "      <td>0.125895</td>\n",
       "      <td>-0.008983</td>\n",
       "      <td>0.014724</td>\n",
       "      <td>2.69</td>\n",
       "      <td>0</td>\n",
       "    </tr>\n",
       "    <tr>\n",
       "      <th>2</th>\n",
       "      <td>1.0</td>\n",
       "      <td>-1.358354</td>\n",
       "      <td>-1.340163</td>\n",
       "      <td>1.773209</td>\n",
       "      <td>0.379780</td>\n",
       "      <td>-0.503198</td>\n",
       "      <td>1.800499</td>\n",
       "      <td>0.791461</td>\n",
       "      <td>0.247676</td>\n",
       "      <td>-1.514654</td>\n",
       "      <td>...</td>\n",
       "      <td>0.247998</td>\n",
       "      <td>0.771679</td>\n",
       "      <td>0.909412</td>\n",
       "      <td>-0.689281</td>\n",
       "      <td>-0.327642</td>\n",
       "      <td>-0.139097</td>\n",
       "      <td>-0.055353</td>\n",
       "      <td>-0.059752</td>\n",
       "      <td>378.66</td>\n",
       "      <td>0</td>\n",
       "    </tr>\n",
       "    <tr>\n",
       "      <th>3</th>\n",
       "      <td>1.0</td>\n",
       "      <td>-0.966272</td>\n",
       "      <td>-0.185226</td>\n",
       "      <td>1.792993</td>\n",
       "      <td>-0.863291</td>\n",
       "      <td>-0.010309</td>\n",
       "      <td>1.247203</td>\n",
       "      <td>0.237609</td>\n",
       "      <td>0.377436</td>\n",
       "      <td>-1.387024</td>\n",
       "      <td>...</td>\n",
       "      <td>-0.108300</td>\n",
       "      <td>0.005274</td>\n",
       "      <td>-0.190321</td>\n",
       "      <td>-1.175575</td>\n",
       "      <td>0.647376</td>\n",
       "      <td>-0.221929</td>\n",
       "      <td>0.062723</td>\n",
       "      <td>0.061458</td>\n",
       "      <td>123.50</td>\n",
       "      <td>0</td>\n",
       "    </tr>\n",
       "    <tr>\n",
       "      <th>4</th>\n",
       "      <td>2.0</td>\n",
       "      <td>-1.158233</td>\n",
       "      <td>0.877737</td>\n",
       "      <td>1.548718</td>\n",
       "      <td>0.403034</td>\n",
       "      <td>-0.407193</td>\n",
       "      <td>0.095921</td>\n",
       "      <td>0.592941</td>\n",
       "      <td>-0.270533</td>\n",
       "      <td>0.817739</td>\n",
       "      <td>...</td>\n",
       "      <td>-0.009431</td>\n",
       "      <td>0.798278</td>\n",
       "      <td>-0.137458</td>\n",
       "      <td>0.141267</td>\n",
       "      <td>-0.206010</td>\n",
       "      <td>0.502292</td>\n",
       "      <td>0.219422</td>\n",
       "      <td>0.215153</td>\n",
       "      <td>69.99</td>\n",
       "      <td>0</td>\n",
       "    </tr>\n",
       "  </tbody>\n",
       "</table>\n",
       "<p>5 rows × 31 columns</p>\n",
       "</div>"
      ],
      "text/plain": [
       "   Time        V1        V2        V3        V4        V5        V6        V7  \\\n",
       "0   0.0 -1.359807 -0.072781  2.536347  1.378155 -0.338321  0.462388  0.239599   \n",
       "1   0.0  1.191857  0.266151  0.166480  0.448154  0.060018 -0.082361 -0.078803   \n",
       "2   1.0 -1.358354 -1.340163  1.773209  0.379780 -0.503198  1.800499  0.791461   \n",
       "3   1.0 -0.966272 -0.185226  1.792993 -0.863291 -0.010309  1.247203  0.237609   \n",
       "4   2.0 -1.158233  0.877737  1.548718  0.403034 -0.407193  0.095921  0.592941   \n",
       "\n",
       "         V8        V9  ...       V21       V22       V23       V24       V25  \\\n",
       "0  0.098698  0.363787  ... -0.018307  0.277838 -0.110474  0.066928  0.128539   \n",
       "1  0.085102 -0.255425  ... -0.225775 -0.638672  0.101288 -0.339846  0.167170   \n",
       "2  0.247676 -1.514654  ...  0.247998  0.771679  0.909412 -0.689281 -0.327642   \n",
       "3  0.377436 -1.387024  ... -0.108300  0.005274 -0.190321 -1.175575  0.647376   \n",
       "4 -0.270533  0.817739  ... -0.009431  0.798278 -0.137458  0.141267 -0.206010   \n",
       "\n",
       "        V26       V27       V28  Amount  Class  \n",
       "0 -0.189115  0.133558 -0.021053  149.62      0  \n",
       "1  0.125895 -0.008983  0.014724    2.69      0  \n",
       "2 -0.139097 -0.055353 -0.059752  378.66      0  \n",
       "3 -0.221929  0.062723  0.061458  123.50      0  \n",
       "4  0.502292  0.219422  0.215153   69.99      0  \n",
       "\n",
       "[5 rows x 31 columns]"
      ]
     },
     "execution_count": 41,
     "metadata": {},
     "output_type": "execute_result"
    }
   ],
   "source": [
    "df.head()"
   ]
  },
  {
   "cell_type": "code",
   "execution_count": 42,
   "id": "8d9040bd-8ddc-47f4-a977-fd2b5dc1b7b3",
   "metadata": {},
   "outputs": [
    {
     "data": {
      "text/html": [
       "<div>\n",
       "<style scoped>\n",
       "    .dataframe tbody tr th:only-of-type {\n",
       "        vertical-align: middle;\n",
       "    }\n",
       "\n",
       "    .dataframe tbody tr th {\n",
       "        vertical-align: top;\n",
       "    }\n",
       "\n",
       "    .dataframe thead th {\n",
       "        text-align: right;\n",
       "    }\n",
       "</style>\n",
       "<table border=\"1\" class=\"dataframe\">\n",
       "  <thead>\n",
       "    <tr style=\"text-align: right;\">\n",
       "      <th></th>\n",
       "      <th>Time</th>\n",
       "      <th>V1</th>\n",
       "      <th>V2</th>\n",
       "      <th>V3</th>\n",
       "      <th>V4</th>\n",
       "      <th>V5</th>\n",
       "      <th>V6</th>\n",
       "      <th>V7</th>\n",
       "      <th>V8</th>\n",
       "      <th>V9</th>\n",
       "      <th>V10</th>\n",
       "      <th>V11</th>\n",
       "      <th>V12</th>\n",
       "      <th>V13</th>\n",
       "      <th>V14</th>\n",
       "      <th>V15</th>\n",
       "      <th>V16</th>\n",
       "      <th>V17</th>\n",
       "      <th>V18</th>\n",
       "      <th>V19</th>\n",
       "      <th>V20</th>\n",
       "      <th>V21</th>\n",
       "      <th>V22</th>\n",
       "      <th>V23</th>\n",
       "      <th>V24</th>\n",
       "      <th>V25</th>\n",
       "      <th>V26</th>\n",
       "      <th>V27</th>\n",
       "      <th>V28</th>\n",
       "      <th>Amount</th>\n",
       "      <th>Class</th>\n",
       "    </tr>\n",
       "  </thead>\n",
       "  <tbody>\n",
       "    <tr>\n",
       "      <th>0</th>\n",
       "      <td>0.0</td>\n",
       "      <td>-1.359807</td>\n",
       "      <td>-0.072781</td>\n",
       "      <td>2.536347</td>\n",
       "      <td>1.378155</td>\n",
       "      <td>-0.338321</td>\n",
       "      <td>0.462388</td>\n",
       "      <td>0.239599</td>\n",
       "      <td>0.098698</td>\n",
       "      <td>0.363787</td>\n",
       "      <td>0.090794</td>\n",
       "      <td>-0.5516</td>\n",
       "      <td>-0.617801</td>\n",
       "      <td>-0.99139</td>\n",
       "      <td>-0.311169</td>\n",
       "      <td>1.468177</td>\n",
       "      <td>-0.470401</td>\n",
       "      <td>0.207971</td>\n",
       "      <td>0.025791</td>\n",
       "      <td>0.403993</td>\n",
       "      <td>0.251412</td>\n",
       "      <td>-0.018307</td>\n",
       "      <td>0.277838</td>\n",
       "      <td>-0.110474</td>\n",
       "      <td>0.066928</td>\n",
       "      <td>0.128539</td>\n",
       "      <td>-0.189115</td>\n",
       "      <td>0.133558</td>\n",
       "      <td>-0.021053</td>\n",
       "      <td>149.62</td>\n",
       "      <td>0</td>\n",
       "    </tr>\n",
       "  </tbody>\n",
       "</table>\n",
       "</div>"
      ],
      "text/plain": [
       "   Time        V1        V2        V3        V4        V5        V6        V7  \\\n",
       "0   0.0 -1.359807 -0.072781  2.536347  1.378155 -0.338321  0.462388  0.239599   \n",
       "\n",
       "         V8        V9       V10     V11       V12      V13       V14  \\\n",
       "0  0.098698  0.363787  0.090794 -0.5516 -0.617801 -0.99139 -0.311169   \n",
       "\n",
       "        V15       V16       V17       V18       V19       V20       V21  \\\n",
       "0  1.468177 -0.470401  0.207971  0.025791  0.403993  0.251412 -0.018307   \n",
       "\n",
       "        V22       V23       V24       V25       V26       V27       V28  \\\n",
       "0  0.277838 -0.110474  0.066928  0.128539 -0.189115  0.133558 -0.021053   \n",
       "\n",
       "   Amount  Class  \n",
       "0  149.62      0  "
      ]
     },
     "execution_count": 42,
     "metadata": {},
     "output_type": "execute_result"
    }
   ],
   "source": [
    "\n",
    "# Show all columns in output\n",
    "pd.set_option('display.max_columns', None)\n",
    "\n",
    "# Now show the first row\n",
    "df.head(1)"
   ]
  },
  {
   "cell_type": "code",
   "execution_count": 44,
   "id": "1290326a-493f-443f-9cc7-c81c207c891d",
   "metadata": {},
   "outputs": [
    {
     "data": {
      "text/plain": [
       "['model.pkl']"
      ]
     },
     "execution_count": 44,
     "metadata": {},
     "output_type": "execute_result"
    }
   ],
   "source": [
    "from sklearn.preprocessing import StandardScaler\n",
    "import joblib\n",
    "\n",
    "# Select feature columns (exclude 'Class')\n",
    "X = df.drop('Class', axis=1)\n",
    "y = df['Class']\n",
    "\n",
    "# Fit the scaler on training features\n",
    "scaler = StandardScaler()\n",
    "X_scaled = scaler.fit_transform(X)\n",
    "\n",
    "# Save the scaler and model\n",
    "joblib.dump(scaler, 'scaler.pkl')\n",
    "joblib.dump(model, 'model.pkl')"
   ]
  },
  {
   "cell_type": "code",
   "execution_count": null,
   "id": "6d8785cd-5182-44f0-968d-fd68874ebf9e",
   "metadata": {},
   "outputs": [],
   "source": []
  }
 ],
 "metadata": {
  "kernelspec": {
   "display_name": "Python (myenv)",
   "language": "python",
   "name": "myenv"
  },
  "language_info": {
   "codemirror_mode": {
    "name": "ipython",
    "version": 3
   },
   "file_extension": ".py",
   "mimetype": "text/x-python",
   "name": "python",
   "nbconvert_exporter": "python",
   "pygments_lexer": "ipython3",
   "version": "3.13.5"
  }
 },
 "nbformat": 4,
 "nbformat_minor": 5
}
