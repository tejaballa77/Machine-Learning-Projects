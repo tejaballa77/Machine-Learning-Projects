{
 "cells": [
  {
   "cell_type": "markdown",
   "id": "45257ac0-c509-466b-8ba9-d5543408a846",
   "metadata": {},
   "source": [
    "## TELCO CUSTOMER CHURN - MACHINE LEARNING PROJECT"
   ]
  },
  {
   "cell_type": "markdown",
   "id": "47523d91-cf42-4c99-b19f-5dc759e6617c",
   "metadata": {},
   "source": [
    "Dataset - Location : https://www.kaggle.com/datasets/blastchar/telco-customer-churn/data"
   ]
  },
  {
   "cell_type": "markdown",
   "id": "d71df57b-e53c-408c-92b7-aa47f9e85151",
   "metadata": {},
   "source": [
    "### Project Overview :"
   ]
  },
  {
   "cell_type": "markdown",
   "id": "fd4bbb10-195c-432b-aebf-211fc56f7fe8",
   "metadata": {},
   "source": [
    "* The project is about predicting whether a customer of a telecom company(Telco) will churn (i.e stop using the company services)or stay .\n",
    "* Churn prediction is very important for telecom companies because retaining customers is cheaper than acquiring new ones.\n",
    "* The data set includes customer demographics,account information,and survices subscribed,along with a churn label(Yes/No)."
   ]
  },
  {
   "cell_type": "markdown",
   "id": "ca75fc66-836f-4f61-a40f-165a8521c03f",
   "metadata": {},
   "source": [
    "### Aim of the Project :"
   ]
  },
  {
   "cell_type": "markdown",
   "id": "b1ecd436-8728-4ac3-ba60-f701ae083c73",
   "metadata": {},
   "source": [
    "* Primary Goal : Predict customer churn based on the historical data.\n",
    "* Business Objective : Help the telecom company identify customers likely to leave,so they can take proactive retension actions(Discounts,offers,improved support).\n",
    "* ML Objective : Build a Classification model."
   ]
  },
  {
   "cell_type": "markdown",
   "id": "21b3bfd8-ee78-4ecd-b550-89d6ba787769",
   "metadata": {},
   "source": [
    "NOTE :\n",
    "* Churn means when a customer leaves (cancels a service/subscription).\n",
    "  In the Telco Customer Churn dataset, each row is a customer, and the target variable Churn tells us:\n",
    "  \"Yes\" → customer left (churned).\n",
    "  \"No\" → customer stayed (retained).\n",
    "* Business importance:\n",
    "  Churn prediction helps a company identify which customers are likely to leave so they can give discounts, improve support, or launch       retention campaigns.\n",
    "  Example: If churn rate = 26%, the company loses 1 out of 4 customers → huge revenue loss."
   ]
  },
  {
   "cell_type": "markdown",
   "id": "53ae8d11-ef74-4483-9a89-66e559b4fd28",
   "metadata": {},
   "source": [
    "### Features in the Telco Customer Churn Dataset :"
   ]
  },
  {
   "cell_type": "markdown",
   "id": "a112aa64-fbcf-41d5-b3c3-66477326dc51",
   "metadata": {},
   "source": [
    "* CustomerID → Unique identifier for each customer (not useful for ML, we usually drop it).\n",
    "\n",
    "Customer Demographics :\n",
    "\n",
    "* gender → Male / Female.\n",
    "\n",
    "* SeniorCitizen → 1 if customer is a senior citizen, 0 otherwise.\n",
    "\n",
    "* Partner → Yes/No → Whether the customer has a spouse/partner.\n",
    "\n",
    "* Dependents → Yes/No → Whether the customer has dependents (kids, family).\n",
    "\n",
    "* Account Information\n",
    "\n",
    "* tenure → Number of months the customer has stayed with the company (important feature: long-tenure customers usually less likely to churn).\n",
    "\n",
    "* Contract → Month-to-month / One year / Two year → Type of contract (longer contracts usually lower churn).\n",
    "\n",
    "* PaperlessBilling → Yes/No → Whether the customer gets paperless bills (digital).\n",
    "\n",
    "* PaymentMethod → Type of payment (Credit card, Electronic check, Mailed check, Bank transfer).\n",
    "\n",
    "Services Signed Up :\n",
    "\n",
    "* PhoneService → Yes/No → Whether customer has a phone service.\n",
    "\n",
    "* MultipleLines → No / Yes / No phone service → Whether customer has multiple lines.\n",
    "\n",
    "* InternetService → DSL / Fiber optic / No.\n",
    "\n",
    "* OnlineSecurity → Yes/No/No internet service → Extra internet security service.\n",
    "\n",
    "* OnlineBackup → Yes/No/No internet service → Cloud backup service.\n",
    "\n",
    "* DeviceProtection → Yes/No/No internet service → Insurance/protection for devices.\n",
    "\n",
    "* TechSupport → Yes/No/No internet service → Whether they receive tech support service.\n",
    "\n",
    "* StreamingTV → Yes/No/No internet service.\n",
    "\n",
    "* StreamingMovies → Yes/No/No internet service.\n",
    "\n",
    "Billing Information :\n",
    "\n",
    "* MonthlyCharges → The amount the customer pays per month.\n",
    "\n",
    "* TotalCharges → Total amount charged to the customer over their tenure.\n",
    "\n",
    "* ⚠ Sometimes this has missing values or is stored as text (we need to clean it).\n",
    "\n",
    "Target :\n",
    "\n",
    "* Churn → Yes/No (did the customer leave?)."
   ]
  },
  {
   "cell_type": "markdown",
   "id": "8ec90f70-d9d7-4cb8-913a-4393a7c1ef76",
   "metadata": {},
   "source": [
    "### NOTE : Quick Notes on Feature Importance \n",
    "* tenure: Customers with longer tenure usually stay → very strong predictor.\n",
    "* Contract: Month-to-month contracts have the highest churn.\n",
    "* MonthlyCharges: Higher charges often → higher churn, but also depends on services.\n",
    "* InternetService = Fiber optic customers tend to churn more than DSL (from real analysis).\n",
    "* PaymentMethod: Customers paying via electronic check have higher churn."
   ]
  },
  {
   "cell_type": "code",
   "execution_count": 1,
   "id": "8c015f40-9f5c-4822-a0f1-e4055873c641",
   "metadata": {},
   "outputs": [],
   "source": [
    "import warnings\n",
    "warnings.filterwarnings(\"ignore\") #Warnings are not shown/hidden."
   ]
  },
  {
   "cell_type": "markdown",
   "id": "7d99f05a-8b1f-40f8-9f3a-dbc57c27a437",
   "metadata": {},
   "source": [
    "## STEP 1 : IMPORT LIBRARIES "
   ]
  },
  {
   "cell_type": "code",
   "execution_count": 2,
   "id": "3de7becc-72c6-4757-a81b-cdcd9acdd0a6",
   "metadata": {},
   "outputs": [],
   "source": [
    "# Data handling\n",
    "\n",
    "import numpy as np\n",
    "import pandas as pd # pandas,numpy -- handle dataset."
   ]
  },
  {
   "cell_type": "code",
   "execution_count": 3,
   "id": "f12b9674-abe9-42fa-a53c-2c8a6314e10b",
   "metadata": {},
   "outputs": [],
   "source": [
    "# Data visualization\n",
    "\n",
    "import matplotlib.pyplot as plt\n",
    "import seaborn as sns   # matplotlib,seaborn -- visualizations."
   ]
  },
  {
   "cell_type": "markdown",
   "id": "f56a3587-7b94-4404-a2aa-ce159016a789",
   "metadata": {},
   "source": [
    "## STEP 2 : LOAD THE DATASET "
   ]
  },
  {
   "cell_type": "code",
   "execution_count": 4,
   "id": "7fd22625-4949-4447-947b-cdaa95d4c78c",
   "metadata": {},
   "outputs": [
    {
     "data": {
      "text/html": [
       "<div>\n",
       "<style scoped>\n",
       "    .dataframe tbody tr th:only-of-type {\n",
       "        vertical-align: middle;\n",
       "    }\n",
       "\n",
       "    .dataframe tbody tr th {\n",
       "        vertical-align: top;\n",
       "    }\n",
       "\n",
       "    .dataframe thead th {\n",
       "        text-align: right;\n",
       "    }\n",
       "</style>\n",
       "<table border=\"1\" class=\"dataframe\">\n",
       "  <thead>\n",
       "    <tr style=\"text-align: right;\">\n",
       "      <th></th>\n",
       "      <th>customerID</th>\n",
       "      <th>gender</th>\n",
       "      <th>SeniorCitizen</th>\n",
       "      <th>Partner</th>\n",
       "      <th>Dependents</th>\n",
       "      <th>tenure</th>\n",
       "      <th>PhoneService</th>\n",
       "      <th>MultipleLines</th>\n",
       "      <th>InternetService</th>\n",
       "      <th>OnlineSecurity</th>\n",
       "      <th>...</th>\n",
       "      <th>DeviceProtection</th>\n",
       "      <th>TechSupport</th>\n",
       "      <th>StreamingTV</th>\n",
       "      <th>StreamingMovies</th>\n",
       "      <th>Contract</th>\n",
       "      <th>PaperlessBilling</th>\n",
       "      <th>PaymentMethod</th>\n",
       "      <th>MonthlyCharges</th>\n",
       "      <th>TotalCharges</th>\n",
       "      <th>Churn</th>\n",
       "    </tr>\n",
       "  </thead>\n",
       "  <tbody>\n",
       "    <tr>\n",
       "      <th>0</th>\n",
       "      <td>7590-VHVEG</td>\n",
       "      <td>Female</td>\n",
       "      <td>0</td>\n",
       "      <td>Yes</td>\n",
       "      <td>No</td>\n",
       "      <td>1</td>\n",
       "      <td>No</td>\n",
       "      <td>No phone service</td>\n",
       "      <td>DSL</td>\n",
       "      <td>No</td>\n",
       "      <td>...</td>\n",
       "      <td>No</td>\n",
       "      <td>No</td>\n",
       "      <td>No</td>\n",
       "      <td>No</td>\n",
       "      <td>Month-to-month</td>\n",
       "      <td>Yes</td>\n",
       "      <td>Electronic check</td>\n",
       "      <td>29.85</td>\n",
       "      <td>29.85</td>\n",
       "      <td>No</td>\n",
       "    </tr>\n",
       "    <tr>\n",
       "      <th>1</th>\n",
       "      <td>5575-GNVDE</td>\n",
       "      <td>Male</td>\n",
       "      <td>0</td>\n",
       "      <td>No</td>\n",
       "      <td>No</td>\n",
       "      <td>34</td>\n",
       "      <td>Yes</td>\n",
       "      <td>No</td>\n",
       "      <td>DSL</td>\n",
       "      <td>Yes</td>\n",
       "      <td>...</td>\n",
       "      <td>Yes</td>\n",
       "      <td>No</td>\n",
       "      <td>No</td>\n",
       "      <td>No</td>\n",
       "      <td>One year</td>\n",
       "      <td>No</td>\n",
       "      <td>Mailed check</td>\n",
       "      <td>56.95</td>\n",
       "      <td>1889.5</td>\n",
       "      <td>No</td>\n",
       "    </tr>\n",
       "    <tr>\n",
       "      <th>2</th>\n",
       "      <td>3668-QPYBK</td>\n",
       "      <td>Male</td>\n",
       "      <td>0</td>\n",
       "      <td>No</td>\n",
       "      <td>No</td>\n",
       "      <td>2</td>\n",
       "      <td>Yes</td>\n",
       "      <td>No</td>\n",
       "      <td>DSL</td>\n",
       "      <td>Yes</td>\n",
       "      <td>...</td>\n",
       "      <td>No</td>\n",
       "      <td>No</td>\n",
       "      <td>No</td>\n",
       "      <td>No</td>\n",
       "      <td>Month-to-month</td>\n",
       "      <td>Yes</td>\n",
       "      <td>Mailed check</td>\n",
       "      <td>53.85</td>\n",
       "      <td>108.15</td>\n",
       "      <td>Yes</td>\n",
       "    </tr>\n",
       "    <tr>\n",
       "      <th>3</th>\n",
       "      <td>7795-CFOCW</td>\n",
       "      <td>Male</td>\n",
       "      <td>0</td>\n",
       "      <td>No</td>\n",
       "      <td>No</td>\n",
       "      <td>45</td>\n",
       "      <td>No</td>\n",
       "      <td>No phone service</td>\n",
       "      <td>DSL</td>\n",
       "      <td>Yes</td>\n",
       "      <td>...</td>\n",
       "      <td>Yes</td>\n",
       "      <td>Yes</td>\n",
       "      <td>No</td>\n",
       "      <td>No</td>\n",
       "      <td>One year</td>\n",
       "      <td>No</td>\n",
       "      <td>Bank transfer (automatic)</td>\n",
       "      <td>42.30</td>\n",
       "      <td>1840.75</td>\n",
       "      <td>No</td>\n",
       "    </tr>\n",
       "    <tr>\n",
       "      <th>4</th>\n",
       "      <td>9237-HQITU</td>\n",
       "      <td>Female</td>\n",
       "      <td>0</td>\n",
       "      <td>No</td>\n",
       "      <td>No</td>\n",
       "      <td>2</td>\n",
       "      <td>Yes</td>\n",
       "      <td>No</td>\n",
       "      <td>Fiber optic</td>\n",
       "      <td>No</td>\n",
       "      <td>...</td>\n",
       "      <td>No</td>\n",
       "      <td>No</td>\n",
       "      <td>No</td>\n",
       "      <td>No</td>\n",
       "      <td>Month-to-month</td>\n",
       "      <td>Yes</td>\n",
       "      <td>Electronic check</td>\n",
       "      <td>70.70</td>\n",
       "      <td>151.65</td>\n",
       "      <td>Yes</td>\n",
       "    </tr>\n",
       "  </tbody>\n",
       "</table>\n",
       "<p>5 rows × 21 columns</p>\n",
       "</div>"
      ],
      "text/plain": [
       "   customerID  gender  SeniorCitizen Partner Dependents  tenure PhoneService  \\\n",
       "0  7590-VHVEG  Female              0     Yes         No       1           No   \n",
       "1  5575-GNVDE    Male              0      No         No      34          Yes   \n",
       "2  3668-QPYBK    Male              0      No         No       2          Yes   \n",
       "3  7795-CFOCW    Male              0      No         No      45           No   \n",
       "4  9237-HQITU  Female              0      No         No       2          Yes   \n",
       "\n",
       "      MultipleLines InternetService OnlineSecurity  ... DeviceProtection  \\\n",
       "0  No phone service             DSL             No  ...               No   \n",
       "1                No             DSL            Yes  ...              Yes   \n",
       "2                No             DSL            Yes  ...               No   \n",
       "3  No phone service             DSL            Yes  ...              Yes   \n",
       "4                No     Fiber optic             No  ...               No   \n",
       "\n",
       "  TechSupport StreamingTV StreamingMovies        Contract PaperlessBilling  \\\n",
       "0          No          No              No  Month-to-month              Yes   \n",
       "1          No          No              No        One year               No   \n",
       "2          No          No              No  Month-to-month              Yes   \n",
       "3         Yes          No              No        One year               No   \n",
       "4          No          No              No  Month-to-month              Yes   \n",
       "\n",
       "               PaymentMethod MonthlyCharges  TotalCharges Churn  \n",
       "0           Electronic check          29.85         29.85    No  \n",
       "1               Mailed check          56.95        1889.5    No  \n",
       "2               Mailed check          53.85        108.15   Yes  \n",
       "3  Bank transfer (automatic)          42.30       1840.75    No  \n",
       "4           Electronic check          70.70        151.65   Yes  \n",
       "\n",
       "[5 rows x 21 columns]"
      ]
     },
     "execution_count": 4,
     "metadata": {},
     "output_type": "execute_result"
    }
   ],
   "source": [
    "df = pd.read_csv(\"/Users/b.tejateja/Downloads/Telco_customer_ML/Telco_customer_churn_ML.csv\")\n",
    "\n",
    "df.head() # # Display first 5 rows."
   ]
  },
  {
   "cell_type": "markdown",
   "id": "5e0a5598-63e6-4ea1-af5d-ae16e7ebeb48",
   "metadata": {},
   "source": [
    "## STEP 3 : EXPLORE THE DATASET"
   ]
  },
  {
   "cell_type": "code",
   "execution_count": 5,
   "id": "a613f4a4-a6b2-47fa-ac8f-126157072dd7",
   "metadata": {},
   "outputs": [
    {
     "data": {
      "text/plain": [
       "(7043, 21)"
      ]
     },
     "execution_count": 5,
     "metadata": {},
     "output_type": "execute_result"
    }
   ],
   "source": [
    "df.shape         # Shape of the dataset (rows, columns)"
   ]
  },
  {
   "cell_type": "code",
   "execution_count": 6,
   "id": "4c7cdf35-6490-499f-97a5-37a287b226a5",
   "metadata": {},
   "outputs": [
    {
     "name": "stdout",
     "output_type": "stream",
     "text": [
      "<class 'pandas.core.frame.DataFrame'>\n",
      "RangeIndex: 7043 entries, 0 to 7042\n",
      "Data columns (total 21 columns):\n",
      " #   Column            Non-Null Count  Dtype  \n",
      "---  ------            --------------  -----  \n",
      " 0   customerID        7043 non-null   object \n",
      " 1   gender            7043 non-null   object \n",
      " 2   SeniorCitizen     7043 non-null   int64  \n",
      " 3   Partner           7043 non-null   object \n",
      " 4   Dependents        7043 non-null   object \n",
      " 5   tenure            7043 non-null   int64  \n",
      " 6   PhoneService      7043 non-null   object \n",
      " 7   MultipleLines     7043 non-null   object \n",
      " 8   InternetService   7043 non-null   object \n",
      " 9   OnlineSecurity    7043 non-null   object \n",
      " 10  OnlineBackup      7043 non-null   object \n",
      " 11  DeviceProtection  7043 non-null   object \n",
      " 12  TechSupport       7043 non-null   object \n",
      " 13  StreamingTV       7043 non-null   object \n",
      " 14  StreamingMovies   7043 non-null   object \n",
      " 15  Contract          7043 non-null   object \n",
      " 16  PaperlessBilling  7043 non-null   object \n",
      " 17  PaymentMethod     7043 non-null   object \n",
      " 18  MonthlyCharges    7043 non-null   float64\n",
      " 19  TotalCharges      7043 non-null   object \n",
      " 20  Churn             7043 non-null   object \n",
      "dtypes: float64(1), int64(2), object(18)\n",
      "memory usage: 1.1+ MB\n"
     ]
    }
   ],
   "source": [
    "df.info()         # Columns and their data types"
   ]
  },
  {
   "cell_type": "code",
   "execution_count": 7,
   "id": "0f615a54-9a78-4015-b9be-5d5a9d7d5abb",
   "metadata": {},
   "outputs": [
    {
     "data": {
      "text/html": [
       "<div>\n",
       "<style scoped>\n",
       "    .dataframe tbody tr th:only-of-type {\n",
       "        vertical-align: middle;\n",
       "    }\n",
       "\n",
       "    .dataframe tbody tr th {\n",
       "        vertical-align: top;\n",
       "    }\n",
       "\n",
       "    .dataframe thead th {\n",
       "        text-align: right;\n",
       "    }\n",
       "</style>\n",
       "<table border=\"1\" class=\"dataframe\">\n",
       "  <thead>\n",
       "    <tr style=\"text-align: right;\">\n",
       "      <th></th>\n",
       "      <th>SeniorCitizen</th>\n",
       "      <th>tenure</th>\n",
       "      <th>MonthlyCharges</th>\n",
       "    </tr>\n",
       "  </thead>\n",
       "  <tbody>\n",
       "    <tr>\n",
       "      <th>count</th>\n",
       "      <td>7043.000000</td>\n",
       "      <td>7043.000000</td>\n",
       "      <td>7043.000000</td>\n",
       "    </tr>\n",
       "    <tr>\n",
       "      <th>mean</th>\n",
       "      <td>0.162147</td>\n",
       "      <td>32.371149</td>\n",
       "      <td>64.761692</td>\n",
       "    </tr>\n",
       "    <tr>\n",
       "      <th>std</th>\n",
       "      <td>0.368612</td>\n",
       "      <td>24.559481</td>\n",
       "      <td>30.090047</td>\n",
       "    </tr>\n",
       "    <tr>\n",
       "      <th>min</th>\n",
       "      <td>0.000000</td>\n",
       "      <td>0.000000</td>\n",
       "      <td>18.250000</td>\n",
       "    </tr>\n",
       "    <tr>\n",
       "      <th>25%</th>\n",
       "      <td>0.000000</td>\n",
       "      <td>9.000000</td>\n",
       "      <td>35.500000</td>\n",
       "    </tr>\n",
       "    <tr>\n",
       "      <th>50%</th>\n",
       "      <td>0.000000</td>\n",
       "      <td>29.000000</td>\n",
       "      <td>70.350000</td>\n",
       "    </tr>\n",
       "    <tr>\n",
       "      <th>75%</th>\n",
       "      <td>0.000000</td>\n",
       "      <td>55.000000</td>\n",
       "      <td>89.850000</td>\n",
       "    </tr>\n",
       "    <tr>\n",
       "      <th>max</th>\n",
       "      <td>1.000000</td>\n",
       "      <td>72.000000</td>\n",
       "      <td>118.750000</td>\n",
       "    </tr>\n",
       "  </tbody>\n",
       "</table>\n",
       "</div>"
      ],
      "text/plain": [
       "       SeniorCitizen       tenure  MonthlyCharges\n",
       "count    7043.000000  7043.000000     7043.000000\n",
       "mean        0.162147    32.371149       64.761692\n",
       "std         0.368612    24.559481       30.090047\n",
       "min         0.000000     0.000000       18.250000\n",
       "25%         0.000000     9.000000       35.500000\n",
       "50%         0.000000    29.000000       70.350000\n",
       "75%         0.000000    55.000000       89.850000\n",
       "max         1.000000    72.000000      118.750000"
      ]
     },
     "execution_count": 7,
     "metadata": {},
     "output_type": "execute_result"
    }
   ],
   "source": [
    "df.describe()   # Summary statistics (only for numeric columns)."
   ]
  },
  {
   "cell_type": "code",
   "execution_count": 8,
   "id": "936d5e32-8413-464c-a4f5-3579a6f7c013",
   "metadata": {},
   "outputs": [
    {
     "data": {
      "text/plain": [
       "customerID          0\n",
       "gender              0\n",
       "SeniorCitizen       0\n",
       "Partner             0\n",
       "Dependents          0\n",
       "tenure              0\n",
       "PhoneService        0\n",
       "MultipleLines       0\n",
       "InternetService     0\n",
       "OnlineSecurity      0\n",
       "OnlineBackup        0\n",
       "DeviceProtection    0\n",
       "TechSupport         0\n",
       "StreamingTV         0\n",
       "StreamingMovies     0\n",
       "Contract            0\n",
       "PaperlessBilling    0\n",
       "PaymentMethod       0\n",
       "MonthlyCharges      0\n",
       "TotalCharges        0\n",
       "Churn               0\n",
       "dtype: int64"
      ]
     },
     "execution_count": 8,
     "metadata": {},
     "output_type": "execute_result"
    }
   ],
   "source": [
    "df.isnull().sum() # Check missing values."
   ]
  },
  {
   "cell_type": "markdown",
   "id": "b6cec32a-3348-4323-a3ab-3fc52c37e407",
   "metadata": {},
   "source": [
    "## STEP 4 : HANDLE MISSING VALUES "
   ]
  },
  {
   "cell_type": "code",
   "execution_count": 9,
   "id": "af161b65-d4d5-41e5-b372-91309b6c0aab",
   "metadata": {},
   "outputs": [
    {
     "name": "stdout",
     "output_type": "stream",
     "text": [
      "Missing values after conversion:\n",
      "customerID           0\n",
      "gender               0\n",
      "SeniorCitizen        0\n",
      "Partner              0\n",
      "Dependents           0\n",
      "tenure               0\n",
      "PhoneService         0\n",
      "MultipleLines        0\n",
      "InternetService      0\n",
      "OnlineSecurity       0\n",
      "OnlineBackup         0\n",
      "DeviceProtection     0\n",
      "TechSupport          0\n",
      "StreamingTV          0\n",
      "StreamingMovies      0\n",
      "Contract             0\n",
      "PaperlessBilling     0\n",
      "PaymentMethod        0\n",
      "MonthlyCharges       0\n",
      "TotalCharges        11\n",
      "Churn                0\n",
      "dtype: int64\n"
     ]
    }
   ],
   "source": [
    "# Convert TotalCharges to numeric (it may be stored as string)\n",
    "\n",
    "df[\"TotalCharges\"] = pd.to_numeric(df[\"TotalCharges\"], errors=\"coerce\")\n",
    "\n",
    "# Check again for missing values\n",
    "\n",
    "print(\"Missing values after conversion:\")\n",
    "print(df.isnull().sum())\n",
    "\n",
    "# Drop missing values (or we can fill with mean/median, here we drop)\n",
    "\n",
    "df = df.dropna()"
   ]
  },
  {
   "cell_type": "code",
   "execution_count": 10,
   "id": "0bbee417-aabd-4ffb-b575-b4be84ca9dd8",
   "metadata": {},
   "outputs": [
    {
     "name": "stdout",
     "output_type": "stream",
     "text": [
      "Missing values in Churn: 0\n",
      "['No' 'Yes']\n"
     ]
    }
   ],
   "source": [
    "print(\"Missing values in Churn:\", df[\"Churn\"].isnull().sum())\n",
    "print(df[\"Churn\"].unique())"
   ]
  },
  {
   "cell_type": "markdown",
   "id": "c26f8a24-e4b3-4ffc-a6c4-7baefd6065ec",
   "metadata": {},
   "source": [
    "## STEP 5 : ENCODE CATEGORICAL VARIABLES "
   ]
  },
  {
   "cell_type": "code",
   "execution_count": 11,
   "id": "2a5ec704-6766-4b58-9f39-0c93c81dd1ea",
   "metadata": {},
   "outputs": [
    {
     "data": {
      "text/html": [
       "<div>\n",
       "<style scoped>\n",
       "    .dataframe tbody tr th:only-of-type {\n",
       "        vertical-align: middle;\n",
       "    }\n",
       "\n",
       "    .dataframe tbody tr th {\n",
       "        vertical-align: top;\n",
       "    }\n",
       "\n",
       "    .dataframe thead th {\n",
       "        text-align: right;\n",
       "    }\n",
       "</style>\n",
       "<table border=\"1\" class=\"dataframe\">\n",
       "  <thead>\n",
       "    <tr style=\"text-align: right;\">\n",
       "      <th></th>\n",
       "      <th>gender</th>\n",
       "      <th>SeniorCitizen</th>\n",
       "      <th>Partner</th>\n",
       "      <th>Dependents</th>\n",
       "      <th>tenure</th>\n",
       "      <th>PhoneService</th>\n",
       "      <th>PaperlessBilling</th>\n",
       "      <th>MonthlyCharges</th>\n",
       "      <th>TotalCharges</th>\n",
       "      <th>Churn</th>\n",
       "      <th>...</th>\n",
       "      <th>TechSupport_Yes</th>\n",
       "      <th>StreamingTV_No internet service</th>\n",
       "      <th>StreamingTV_Yes</th>\n",
       "      <th>StreamingMovies_No internet service</th>\n",
       "      <th>StreamingMovies_Yes</th>\n",
       "      <th>Contract_One year</th>\n",
       "      <th>Contract_Two year</th>\n",
       "      <th>PaymentMethod_Credit card (automatic)</th>\n",
       "      <th>PaymentMethod_Electronic check</th>\n",
       "      <th>PaymentMethod_Mailed check</th>\n",
       "    </tr>\n",
       "  </thead>\n",
       "  <tbody>\n",
       "    <tr>\n",
       "      <th>0</th>\n",
       "      <td>0</td>\n",
       "      <td>0</td>\n",
       "      <td>1</td>\n",
       "      <td>0</td>\n",
       "      <td>1</td>\n",
       "      <td>0</td>\n",
       "      <td>1</td>\n",
       "      <td>29.85</td>\n",
       "      <td>29.85</td>\n",
       "      <td>0</td>\n",
       "      <td>...</td>\n",
       "      <td>False</td>\n",
       "      <td>False</td>\n",
       "      <td>False</td>\n",
       "      <td>False</td>\n",
       "      <td>False</td>\n",
       "      <td>False</td>\n",
       "      <td>False</td>\n",
       "      <td>False</td>\n",
       "      <td>True</td>\n",
       "      <td>False</td>\n",
       "    </tr>\n",
       "    <tr>\n",
       "      <th>1</th>\n",
       "      <td>1</td>\n",
       "      <td>0</td>\n",
       "      <td>0</td>\n",
       "      <td>0</td>\n",
       "      <td>34</td>\n",
       "      <td>1</td>\n",
       "      <td>0</td>\n",
       "      <td>56.95</td>\n",
       "      <td>1889.50</td>\n",
       "      <td>0</td>\n",
       "      <td>...</td>\n",
       "      <td>False</td>\n",
       "      <td>False</td>\n",
       "      <td>False</td>\n",
       "      <td>False</td>\n",
       "      <td>False</td>\n",
       "      <td>True</td>\n",
       "      <td>False</td>\n",
       "      <td>False</td>\n",
       "      <td>False</td>\n",
       "      <td>True</td>\n",
       "    </tr>\n",
       "    <tr>\n",
       "      <th>2</th>\n",
       "      <td>1</td>\n",
       "      <td>0</td>\n",
       "      <td>0</td>\n",
       "      <td>0</td>\n",
       "      <td>2</td>\n",
       "      <td>1</td>\n",
       "      <td>1</td>\n",
       "      <td>53.85</td>\n",
       "      <td>108.15</td>\n",
       "      <td>1</td>\n",
       "      <td>...</td>\n",
       "      <td>False</td>\n",
       "      <td>False</td>\n",
       "      <td>False</td>\n",
       "      <td>False</td>\n",
       "      <td>False</td>\n",
       "      <td>False</td>\n",
       "      <td>False</td>\n",
       "      <td>False</td>\n",
       "      <td>False</td>\n",
       "      <td>True</td>\n",
       "    </tr>\n",
       "    <tr>\n",
       "      <th>3</th>\n",
       "      <td>1</td>\n",
       "      <td>0</td>\n",
       "      <td>0</td>\n",
       "      <td>0</td>\n",
       "      <td>45</td>\n",
       "      <td>0</td>\n",
       "      <td>0</td>\n",
       "      <td>42.30</td>\n",
       "      <td>1840.75</td>\n",
       "      <td>0</td>\n",
       "      <td>...</td>\n",
       "      <td>True</td>\n",
       "      <td>False</td>\n",
       "      <td>False</td>\n",
       "      <td>False</td>\n",
       "      <td>False</td>\n",
       "      <td>True</td>\n",
       "      <td>False</td>\n",
       "      <td>False</td>\n",
       "      <td>False</td>\n",
       "      <td>False</td>\n",
       "    </tr>\n",
       "    <tr>\n",
       "      <th>4</th>\n",
       "      <td>0</td>\n",
       "      <td>0</td>\n",
       "      <td>0</td>\n",
       "      <td>0</td>\n",
       "      <td>2</td>\n",
       "      <td>1</td>\n",
       "      <td>1</td>\n",
       "      <td>70.70</td>\n",
       "      <td>151.65</td>\n",
       "      <td>1</td>\n",
       "      <td>...</td>\n",
       "      <td>False</td>\n",
       "      <td>False</td>\n",
       "      <td>False</td>\n",
       "      <td>False</td>\n",
       "      <td>False</td>\n",
       "      <td>False</td>\n",
       "      <td>False</td>\n",
       "      <td>False</td>\n",
       "      <td>True</td>\n",
       "      <td>False</td>\n",
       "    </tr>\n",
       "  </tbody>\n",
       "</table>\n",
       "<p>5 rows × 31 columns</p>\n",
       "</div>"
      ],
      "text/plain": [
       "   gender  SeniorCitizen  Partner  Dependents  tenure  PhoneService  \\\n",
       "0       0              0        1           0       1             0   \n",
       "1       1              0        0           0      34             1   \n",
       "2       1              0        0           0       2             1   \n",
       "3       1              0        0           0      45             0   \n",
       "4       0              0        0           0       2             1   \n",
       "\n",
       "   PaperlessBilling  MonthlyCharges  TotalCharges  Churn  ...  \\\n",
       "0                 1           29.85         29.85      0  ...   \n",
       "1                 0           56.95       1889.50      0  ...   \n",
       "2                 1           53.85        108.15      1  ...   \n",
       "3                 0           42.30       1840.75      0  ...   \n",
       "4                 1           70.70        151.65      1  ...   \n",
       "\n",
       "   TechSupport_Yes  StreamingTV_No internet service  StreamingTV_Yes  \\\n",
       "0            False                            False            False   \n",
       "1            False                            False            False   \n",
       "2            False                            False            False   \n",
       "3             True                            False            False   \n",
       "4            False                            False            False   \n",
       "\n",
       "   StreamingMovies_No internet service  StreamingMovies_Yes  \\\n",
       "0                                False                False   \n",
       "1                                False                False   \n",
       "2                                False                False   \n",
       "3                                False                False   \n",
       "4                                False                False   \n",
       "\n",
       "   Contract_One year  Contract_Two year  \\\n",
       "0              False              False   \n",
       "1               True              False   \n",
       "2              False              False   \n",
       "3               True              False   \n",
       "4              False              False   \n",
       "\n",
       "   PaymentMethod_Credit card (automatic)  PaymentMethod_Electronic check  \\\n",
       "0                                  False                            True   \n",
       "1                                  False                           False   \n",
       "2                                  False                           False   \n",
       "3                                  False                           False   \n",
       "4                                  False                            True   \n",
       "\n",
       "   PaymentMethod_Mailed check  \n",
       "0                       False  \n",
       "1                        True  \n",
       "2                        True  \n",
       "3                       False  \n",
       "4                       False  \n",
       "\n",
       "[5 rows x 31 columns]"
      ]
     },
     "execution_count": 11,
     "metadata": {},
     "output_type": "execute_result"
    }
   ],
   "source": [
    "# Drop CustomerID (not useful for ML)\n",
    "df = df.drop(\"customerID\", axis=1)\n",
    "\n",
    "# Encode 'Yes/No' columns into 1/0\n",
    "yes_no_cols = [\"Partner\", \"Dependents\", \"PhoneService\", \"PaperlessBilling\", \"Churn\"]\n",
    "for col in yes_no_cols:\n",
    "    df[col] = df[col].map({\"Yes\": 1, \"No\": 0})\n",
    "\n",
    "# Encode gender (Male=1, Female=0)\n",
    "df[\"gender\"] = df[\"gender\"].map({\"Male\": 1, \"Female\": 0})\n",
    "\n",
    "# For categorical columns with multiple categories (Contract, PaymentMethod, InternetService, etc.)\n",
    "df = pd.get_dummies(df,drop_first=True)\n",
    "\n",
    "# Check processed dataset\n",
    "df.head()"
   ]
  },
  {
   "cell_type": "code",
   "execution_count": 12,
   "id": "044420ad-3e69-4542-997f-6158217e204a",
   "metadata": {},
   "outputs": [],
   "source": [
    "# Machine learning preprocessing & modeling \n",
    "\n",
    "from sklearn.model_selection import train_test_split \n",
    "from sklearn.preprocessing import LabelEncoder, StandardScaler \n",
    "from sklearn.metrics import classification_report, confusion_matrix, accuracy_score \n",
    "from sklearn.linear_model import LogisticRegression\n"
   ]
  },
  {
   "cell_type": "markdown",
   "id": "e94a896a-2707-45aa-9456-06883a28b540",
   "metadata": {},
   "source": [
    "## STEP 6 : TRAIN TEST SPLIT"
   ]
  },
  {
   "cell_type": "code",
   "execution_count": 13,
   "id": "377e9f9e-07ea-423d-8d9b-f6c0e2060d6a",
   "metadata": {},
   "outputs": [
    {
     "name": "stdout",
     "output_type": "stream",
     "text": [
      "Train shape: (5625, 30)\n",
      "Test shape: (1407, 30)\n"
     ]
    }
   ],
   "source": [
    "\n",
    "# Separate features (X) and target (y)\n",
    "X = df.drop(\"Churn\", axis=1)\n",
    "y = df[\"Churn\"]\n",
    "\n",
    "# Train-test split (80% training, 20% testing)\n",
    "X_train, X_test, y_train, y_test = train_test_split(X, y, test_size=0.2, random_state=42, stratify=y)\n",
    "\n",
    "print(\"Train shape:\", X_train.shape)\n",
    "print(\"Test shape:\", X_test.shape)\n"
   ]
  },
  {
   "cell_type": "markdown",
   "id": "de9e36d4-79a3-413f-8b4b-aa693e33246d",
   "metadata": {},
   "source": [
    "## STEP 7 : FEATURE SCALING "
   ]
  },
  {
   "cell_type": "code",
   "execution_count": 14,
   "id": "5e045b45-cd74-41df-9589-20038491af2a",
   "metadata": {},
   "outputs": [],
   "source": [
    "\n",
    "# Scale features (important for models like Logistic Regression)\n",
    "scaler = StandardScaler()\n",
    "X_train = scaler.fit_transform(X_train)\n",
    "X_test = scaler.transform(X_test)\n"
   ]
  },
  {
   "cell_type": "markdown",
   "id": "9f297bff-d752-417b-8baf-e5734237f20d",
   "metadata": {},
   "source": [
    "## STEP 8 : BUILD LOGISTIC REGRESSION MODEL"
   ]
  },
  {
   "cell_type": "code",
   "execution_count": 15,
   "id": "32952d4c-5da8-40a0-8dfe-1d4ca57d35e8",
   "metadata": {},
   "outputs": [
    {
     "name": "stdout",
     "output_type": "stream",
     "text": [
      "Accuracy: 0.8038379530916845\n",
      "\n",
      "Classification Report:\n",
      "               precision    recall  f1-score   support\n",
      "\n",
      "           0       0.85      0.89      0.87      1033\n",
      "           1       0.65      0.57      0.61       374\n",
      "\n",
      "    accuracy                           0.80      1407\n",
      "   macro avg       0.75      0.73      0.74      1407\n",
      "weighted avg       0.80      0.80      0.80      1407\n",
      "\n",
      "\n",
      "Confusion Matrix:\n",
      " [[916 117]\n",
      " [159 215]]\n"
     ]
    }
   ],
   "source": [
    "\n",
    "# Train Logistic Regression model\n",
    "log_reg = LogisticRegression(max_iter=1000)\n",
    "log_reg.fit(X_train, y_train)\n",
    "\n",
    "# Predictions\n",
    "y_pred = log_reg.predict(X_test)\n",
    "\n",
    "# Evaluate\n",
    "print(\"Accuracy:\", accuracy_score(y_test, y_pred))\n",
    "print(\"\\nClassification Report:\\n\", classification_report(y_test, y_pred))\n",
    "print(\"\\nConfusion Matrix:\\n\", confusion_matrix(y_test, y_pred))\n"
   ]
  },
  {
   "cell_type": "markdown",
   "id": "a9cada1e-c239-4451-b684-1332b73dfcf0",
   "metadata": {},
   "source": [
    "### SUMMARY OF THIS MODEL :\n",
    "* Out of all 1407 customers in the test set, the model predicted correctly ~80% of the time.\n",
    "\n",
    "### Classification Report\n",
    "For Class 0 (No Churn, i.e. customers who stayed):\n",
    "\n",
    "* Precision = 0.85 → When the model predicts \"No Churn\", it’s correct 85% of the time.\n",
    "\n",
    "* Recall = 0.89 → Out of all actual non-churners, the model correctly identified 89%.\n",
    "\n",
    "* F1 = 0.87 → Balanced score between precision & recall.\n",
    "👉 Model is very good at detecting people who stay.\n",
    "\n",
    "For Class 1 (Churn, i.e. customers who left):\n",
    "\n",
    "* Precision = 0.65 → When the model predicts \"Churn\", 65% are truly churners (35% false alarms).\n",
    "\n",
    "* Recall = 0.57 → Out of all actual churners, the model only caught 57% (missed 43%).\n",
    "\n",
    "* F1 = 0.61 → Moderate, but weaker than class 0.\n",
    "👉 Model is not as good at catching churners (but still better than random).\n",
    "\n",
    "### confusion matrix :\n",
    "* 916 customers correctly identified as staying.\n",
    "\n",
    "* 215 customers correctly identified as leaving.\n",
    "\n",
    "* 159 churners missed (bad for business!).\n",
    "\n",
    "* 117 loyal customers falsely flagged as churners (false alarms).\n",
    "\n",
    "### Business Interpretation\n",
    "\n",
    "* Model is strong at predicting loyal customers (class 0).\n",
    "\n",
    "* But it misses ~43% of churners (class 1).\n",
    "\n",
    "* From a business view, this is risky — missing churners = lost revenue.\n",
    "👉 That’s why we try Random Forest, XGBoost, SMOTE to improve recall for churners.\n",
    "\n",
    "### Summary in plain words:\n",
    "Your Logistic Regression model is about 80% accurate overall. It’s excellent at spotting customers who will stay, but weaker at identifying those who will leave (it misses ~43% of them). For churn prediction, this means the model is a decent starting point, but we should try advanced models to improve Recall for churners."
   ]
  },
  {
   "cell_type": "markdown",
   "id": "a9650dcd-6b40-4511-8666-6870297b17d5",
   "metadata": {},
   "source": [
    "## STEP 8.1 : BUILDING DECISION TREE CLASSIFIER "
   ]
  },
  {
   "cell_type": "code",
   "execution_count": 16,
   "id": "4ce8aad7-4f5c-4d08-9fa5-2fc92113b3de",
   "metadata": {},
   "outputs": [
    {
     "name": "stdout",
     "output_type": "stream",
     "text": [
      "Decision Tree Accuracy: 0.7782515991471215\n",
      "              precision    recall  f1-score   support\n",
      "\n",
      "           0       0.85      0.84      0.85      1033\n",
      "           1       0.58      0.60      0.59       374\n",
      "\n",
      "    accuracy                           0.78      1407\n",
      "   macro avg       0.72      0.72      0.72      1407\n",
      "weighted avg       0.78      0.78      0.78      1407\n",
      "\n"
     ]
    }
   ],
   "source": [
    "\n",
    "from sklearn.tree import DecisionTreeClassifier\n",
    "\n",
    "dt = DecisionTreeClassifier(max_depth=5, random_state=42)\n",
    "dt.fit(X_train, y_train)\n",
    "y_pred_dt = dt.predict(X_test)\n",
    "\n",
    "print(\"Decision Tree Accuracy:\", accuracy_score(y_test, y_pred_dt))\n",
    "print(classification_report(y_test, y_pred_dt))\n"
   ]
  },
  {
   "cell_type": "markdown",
   "id": "4a1623f6-05d7-4fa2-8dea-f12d4a5aed34",
   "metadata": {},
   "source": [
    "## STEP 8.2 : BUILDING RANDOMFOREST CLASSIFIER"
   ]
  },
  {
   "cell_type": "code",
   "execution_count": 17,
   "id": "2dafdb06-09fb-4106-92a5-7c246d3593cb",
   "metadata": {},
   "outputs": [
    {
     "name": "stdout",
     "output_type": "stream",
     "text": [
      "Random Forest Accuracy: 0.7896233120113717\n",
      "              precision    recall  f1-score   support\n",
      "\n",
      "           0       0.83      0.89      0.86      1033\n",
      "           1       0.63      0.50      0.56       374\n",
      "\n",
      "    accuracy                           0.79      1407\n",
      "   macro avg       0.73      0.70      0.71      1407\n",
      "weighted avg       0.78      0.79      0.78      1407\n",
      "\n"
     ]
    }
   ],
   "source": [
    "from sklearn.ensemble import RandomForestClassifier\n",
    "\n",
    "rf = RandomForestClassifier(n_estimators=200, random_state=42)\n",
    "rf.fit(X_train, y_train)\n",
    "y_pred_rf = rf.predict(X_test)\n",
    "\n",
    "print(\"Random Forest Accuracy:\", accuracy_score(y_test, y_pred_rf))\n",
    "print(classification_report(y_test, y_pred_rf))\n"
   ]
  },
  {
   "cell_type": "code",
   "execution_count": 18,
   "id": "cf2cf7b5-9603-4a58-9113-3b612e3c07b7",
   "metadata": {},
   "outputs": [
    {
     "name": "stdout",
     "output_type": "stream",
     "text": [
      "Requirement already satisfied: xgboost in /opt/anaconda3/lib/python3.13/site-packages (3.0.5)\n",
      "Requirement already satisfied: numpy in /opt/anaconda3/lib/python3.13/site-packages (from xgboost) (2.1.3)\n",
      "Requirement already satisfied: scipy in /opt/anaconda3/lib/python3.13/site-packages (from xgboost) (1.15.3)\n"
     ]
    }
   ],
   "source": [
    "!pip install xgboost"
   ]
  },
  {
   "cell_type": "markdown",
   "id": "e8b60648-826e-45e8-a775-3194bbcd7748",
   "metadata": {},
   "source": [
    "## STEP 8.3 : BUILDING XGBCLASSIFIER "
   ]
  },
  {
   "cell_type": "code",
   "execution_count": 19,
   "id": "5afab4bf-bf82-4a45-a185-31dc51a16925",
   "metadata": {},
   "outputs": [
    {
     "name": "stdout",
     "output_type": "stream",
     "text": [
      "XGBoost Accuracy: 0.7782515991471215\n",
      "              precision    recall  f1-score   support\n",
      "\n",
      "           0       0.84      0.86      0.85      1033\n",
      "           1       0.59      0.55      0.57       374\n",
      "\n",
      "    accuracy                           0.78      1407\n",
      "   macro avg       0.71      0.70      0.71      1407\n",
      "weighted avg       0.77      0.78      0.78      1407\n",
      "\n"
     ]
    }
   ],
   "source": [
    "from xgboost import XGBClassifier\n",
    "\n",
    "xgb = XGBClassifier(use_label_encoder=False, eval_metric=\"logloss\", random_state=42)\n",
    "xgb.fit(X_train, y_train)\n",
    "y_pred_xgb = xgb.predict(X_test)\n",
    "\n",
    "print(\"XGBoost Accuracy:\", accuracy_score(y_test, y_pred_xgb))\n",
    "print(classification_report(y_test, y_pred_xgb))\n"
   ]
  },
  {
   "cell_type": "markdown",
   "id": "6f7f9566-8e7e-4492-931a-4ecb5c6d92be",
   "metadata": {},
   "source": [
    "## STEP 8.4 : BUILDING SVC MODEL"
   ]
  },
  {
   "cell_type": "code",
   "execution_count": 20,
   "id": "9ede7ba9-be79-4a55-a428-eadd00ac40c1",
   "metadata": {},
   "outputs": [
    {
     "name": "stdout",
     "output_type": "stream",
     "text": [
      "SVM Accuracy: 0.7867803837953091\n",
      "              precision    recall  f1-score   support\n",
      "\n",
      "           0       0.83      0.89      0.86      1033\n",
      "           1       0.63      0.49      0.55       374\n",
      "\n",
      "    accuracy                           0.79      1407\n",
      "   macro avg       0.73      0.69      0.71      1407\n",
      "weighted avg       0.78      0.79      0.78      1407\n",
      "\n"
     ]
    }
   ],
   "source": [
    "from sklearn.svm import SVC\n",
    "\n",
    "svm = SVC(kernel=\"rbf\", probability=True, random_state=42)\n",
    "svm.fit(X_train, y_train)\n",
    "y_pred_svm = svm.predict(X_test)\n",
    "\n",
    "print(\"SVM Accuracy:\", accuracy_score(y_test, y_pred_svm))\n",
    "print(classification_report(y_test, y_pred_svm))\n"
   ]
  },
  {
   "cell_type": "markdown",
   "id": "5b317571-e657-432e-8e08-1b72b517cf3c",
   "metadata": {},
   "source": [
    "## NOTE : Why not just accuracy?\n",
    "\n",
    "In the Telco dataset, about 73% customers stay (No Churn) and 27% leave (Churn).\n",
    "\n",
    "If a model predicts everyone as “No Churn”, accuracy = 73% — but it catches zero churners (useless for business).\n",
    "👉 So accuracy can be misleading when classes are imbalanced.\n",
    "\n",
    "## Precision vs Recall\n",
    "\n",
    "Precision (for churn) → Of all customers we predicted as churn, how many actually churn?\n",
    "\n",
    "Recall (for churn) → Of all customers who actually churned, how many did we catch?\n",
    "\n",
    "## Why Recall is more important here\n",
    "\n",
    "In customer churn, the business priority is to identify as many churners as possible, because:\n",
    "\n",
    "Missing a churner = lost customer, lost revenue.\n",
    "\n",
    "Acting on a “false churn” (a loyal customer we mistakenly flagged) costs less (maybe a discount offer, which is cheaper than losing the customer entirely).\n",
    "\n",
    "👉 That means Recall (catching churners) is often more critical than Precision.\n",
    "\n",
    "## Why compare recall across models\n",
    "\n",
    "Different models (Logistic Regression, Random Forest, XGBoost) give different trade-offs between precision & recall.\n",
    "\n",
    "By comparing recall values, we ensure we select the model that finds the maximum churners.\n",
    "\n",
    "Later, we can tune the decision threshold (default = 0.5) to adjust the balance between precision & recall.\n",
    "\n",
    "## Bottom line:\n",
    "We compare recall values because in churn prediction, catching churners (Recall) is more valuable than just having a high overall accuracy."
   ]
  },
  {
   "cell_type": "code",
   "execution_count": 21,
   "id": "2b4fd646-7c38-474b-8fe3-1c14f7b01596",
   "metadata": {},
   "outputs": [
    {
     "data": {
      "text/html": [
       "<div>\n",
       "<style scoped>\n",
       "    .dataframe tbody tr th:only-of-type {\n",
       "        vertical-align: middle;\n",
       "    }\n",
       "\n",
       "    .dataframe tbody tr th {\n",
       "        vertical-align: top;\n",
       "    }\n",
       "\n",
       "    .dataframe thead th {\n",
       "        text-align: right;\n",
       "    }\n",
       "</style>\n",
       "<table border=\"1\" class=\"dataframe\">\n",
       "  <thead>\n",
       "    <tr style=\"text-align: right;\">\n",
       "      <th></th>\n",
       "      <th>Model</th>\n",
       "      <th>Accuracy</th>\n",
       "      <th>Recall (Churn)</th>\n",
       "      <th>Precision (Churn)</th>\n",
       "      <th>F1 (Churn)</th>\n",
       "    </tr>\n",
       "  </thead>\n",
       "  <tbody>\n",
       "    <tr>\n",
       "      <th>0</th>\n",
       "      <td>Logistic Regression</td>\n",
       "      <td>0.8038</td>\n",
       "      <td>0.57</td>\n",
       "      <td>0.65</td>\n",
       "      <td>0.61</td>\n",
       "    </tr>\n",
       "    <tr>\n",
       "      <th>1</th>\n",
       "      <td>Random Forest</td>\n",
       "      <td>0.7896</td>\n",
       "      <td>0.50</td>\n",
       "      <td>0.63</td>\n",
       "      <td>0.56</td>\n",
       "    </tr>\n",
       "    <tr>\n",
       "      <th>2</th>\n",
       "      <td>Decision Tree</td>\n",
       "      <td>0.7782</td>\n",
       "      <td>0.60</td>\n",
       "      <td>0.58</td>\n",
       "      <td>0.59</td>\n",
       "    </tr>\n",
       "    <tr>\n",
       "      <th>3</th>\n",
       "      <td>XGBClassifer</td>\n",
       "      <td>0.7782</td>\n",
       "      <td>0.55</td>\n",
       "      <td>0.59</td>\n",
       "      <td>0.57</td>\n",
       "    </tr>\n",
       "    <tr>\n",
       "      <th>4</th>\n",
       "      <td>SVC</td>\n",
       "      <td>0.7867</td>\n",
       "      <td>0.49</td>\n",
       "      <td>0.63</td>\n",
       "      <td>0.55</td>\n",
       "    </tr>\n",
       "  </tbody>\n",
       "</table>\n",
       "</div>"
      ],
      "text/plain": [
       "                 Model  Accuracy  Recall (Churn)  Precision (Churn)  \\\n",
       "0  Logistic Regression    0.8038            0.57               0.65   \n",
       "1        Random Forest    0.7896            0.50               0.63   \n",
       "2        Decision Tree    0.7782            0.60               0.58   \n",
       "3         XGBClassifer    0.7782            0.55               0.59   \n",
       "4                  SVC    0.7867            0.49               0.63   \n",
       "\n",
       "   F1 (Churn)  \n",
       "0        0.61  \n",
       "1        0.56  \n",
       "2        0.59  \n",
       "3        0.57  \n",
       "4        0.55  "
      ]
     },
     "execution_count": 21,
     "metadata": {},
     "output_type": "execute_result"
    }
   ],
   "source": [
    "results = pd.DataFrame({\n",
    "    \"Model\": [\"Logistic Regression\", \"Random Forest\", \"Decision Tree\",\"XGBClassifer\",\"SVC\"],\n",
    "    \"Accuracy\": [0.8038, 0.7896, 0.7782,0.7782,0.7867],\n",
    "    \"Recall (Churn)\": [0.57, 0.50, 0.60,0.55,0.49],\n",
    "    \"Precision (Churn)\": [0.65, 0.63, 0.58,0.59,0.63],\n",
    "    \"F1 (Churn)\": [0.61, 0.56, 0.59,0.57,0.55]\n",
    "})\n",
    "results"
   ]
  },
  {
   "cell_type": "markdown",
   "id": "61ef437b-32fb-42a9-97c9-379ae96f5fe7",
   "metadata": {},
   "source": [
    "## DEPLOYMENT OF MODEL :"
   ]
  },
  {
   "cell_type": "markdown",
   "id": "44d49192-02c5-4463-8f2c-c08d0e69bbb9",
   "metadata": {},
   "source": [
    "### STEP 1 : Save your model and preprocessing objects "
   ]
  },
  {
   "cell_type": "code",
   "execution_count": 24,
   "id": "98912882-5086-4102-ae3f-0c68b2100dbe",
   "metadata": {},
   "outputs": [],
   "source": [
    "import streamlit as st\n",
    "import pandas as pd\n",
    "import pickle"
   ]
  },
  {
   "cell_type": "code",
   "execution_count": 25,
   "id": "d29b1970-8569-4ad1-85a2-5959b79b5811",
   "metadata": {},
   "outputs": [],
   "source": [
    "with open('logistic_model.pkl', 'rb') as f:\n",
    "    model = pickle.load(f)"
   ]
  },
  {
   "cell_type": "code",
   "execution_count": 26,
   "id": "2ad90a01-9763-4395-9e19-b909c5fb4f71",
   "metadata": {},
   "outputs": [
    {
     "name": "stderr",
     "output_type": "stream",
     "text": [
      "2025-09-28 18:56:33.109 Thread 'MainThread': missing ScriptRunContext! This warning can be ignored when running in bare mode.\n",
      "2025-09-28 18:56:33.111 Thread 'MainThread': missing ScriptRunContext! This warning can be ignored when running in bare mode.\n",
      "2025-09-28 18:56:33.114 Thread 'MainThread': missing ScriptRunContext! This warning can be ignored when running in bare mode.\n",
      "2025-09-28 18:56:33.115 Thread 'MainThread': missing ScriptRunContext! This warning can be ignored when running in bare mode.\n"
     ]
    }
   ],
   "source": [
    "st.title(\"📊 Telco Customer Churn Prediction App\")\n",
    "st.write(\"\"\"\n",
    "This app predicts whether a customer will **churn**...\n",
    "\"\"\")"
   ]
  },
  {
   "cell_type": "code",
   "execution_count": 27,
   "id": "1f4dcd56-615c-4cb9-ada4-9b9058d2dde2",
   "metadata": {},
   "outputs": [
    {
     "name": "stderr",
     "output_type": "stream",
     "text": [
      "2025-09-28 18:58:01.283 Thread 'MainThread': missing ScriptRunContext! This warning can be ignored when running in bare mode.\n",
      "2025-09-28 18:58:01.287 Thread 'MainThread': missing ScriptRunContext! This warning can be ignored when running in bare mode.\n",
      "2025-09-28 18:58:01.289 Thread 'MainThread': missing ScriptRunContext! This warning can be ignored when running in bare mode.\n",
      "2025-09-28 18:58:01.291 Thread 'MainThread': missing ScriptRunContext! This warning can be ignored when running in bare mode.\n",
      "2025-09-28 18:58:01.296 Thread 'MainThread': missing ScriptRunContext! This warning can be ignored when running in bare mode.\n",
      "2025-09-28 18:58:01.297 Thread 'MainThread': missing ScriptRunContext! This warning can be ignored when running in bare mode.\n"
     ]
    }
   ],
   "source": [
    "option = st.selectbox(\"Choose prediction type:\", [\"Single Customer\", \"Upload CSV\"])\n"
   ]
  },
  {
   "cell_type": "code",
   "execution_count": 29,
   "id": "28b7bcc3-a259-442a-aec6-d92e246f3a4a",
   "metadata": {},
   "outputs": [],
   "source": [
    "def user_input_features():\n",
    "    gender = st.sidebar.selectbox('Gender', ('Male', 'Female'))\n",
    "    gender_num = 1 if gender=='Male' else 0\n",
    "\n",
    "    has_internet = st.sidebar.selectbox('Has Internet Service?', (True, False))\n",
    "    has_internet_num = 1 if has_internet else 0\n",
    "\n",
    "    SeniorCitizen = st.sidebar.selectbox('Senior Citizen', (0,1))\n",
    "    tenure = st.sidebar.slider('Tenure (Months)', 0, 72, 12)\n",
    "    MonthlyCharges = st.sidebar.number_input('Monthly Charges', 0, 1000, 70)\n",
    "    TotalCharges = st.sidebar.number_input('Total Charges', 0, 10000, 500)\n",
    "\n",
    "    data = {\n",
    "        'gender': gender_num,\n",
    "        'SeniorCitizen': SeniorCitizen,\n",
    "        'HasInternetService': has_internet_num,\n",
    "        'tenure': tenure,\n",
    "        'MonthlyCharges': MonthlyCharges,\n",
    "        'TotalCharges': TotalCharges\n",
    "    }\n",
    "    features = pd.DataFrame(data, index=[0])\n",
    "    return features"
   ]
  },
  {
   "cell_type": "code",
   "execution_count": 30,
   "id": "3f97ad00-0174-4ccb-9bf2-edb398e6df49",
   "metadata": {},
   "outputs": [
    {
     "name": "stderr",
     "output_type": "stream",
     "text": [
      "2025-09-28 18:59:28.932 Thread 'MainThread': missing ScriptRunContext! This warning can be ignored when running in bare mode.\n",
      "2025-09-28 18:59:28.934 Thread 'MainThread': missing ScriptRunContext! This warning can be ignored when running in bare mode.\n",
      "2025-09-28 18:59:28.937 Thread 'MainThread': missing ScriptRunContext! This warning can be ignored when running in bare mode.\n",
      "2025-09-28 18:59:28.939 Thread 'MainThread': missing ScriptRunContext! This warning can be ignored when running in bare mode.\n",
      "2025-09-28 18:59:28.941 Thread 'MainThread': missing ScriptRunContext! This warning can be ignored when running in bare mode.\n",
      "2025-09-28 18:59:28.943 Thread 'MainThread': missing ScriptRunContext! This warning can be ignored when running in bare mode.\n",
      "2025-09-28 18:59:28.943 Thread 'MainThread': missing ScriptRunContext! This warning can be ignored when running in bare mode.\n",
      "2025-09-28 18:59:28.944 Thread 'MainThread': missing ScriptRunContext! This warning can be ignored when running in bare mode.\n",
      "2025-09-28 18:59:28.944 Thread 'MainThread': missing ScriptRunContext! This warning can be ignored when running in bare mode.\n",
      "2025-09-28 18:59:28.945 Thread 'MainThread': missing ScriptRunContext! This warning can be ignored when running in bare mode.\n",
      "2025-09-28 18:59:28.945 Thread 'MainThread': missing ScriptRunContext! This warning can be ignored when running in bare mode.\n",
      "2025-09-28 18:59:28.946 Thread 'MainThread': missing ScriptRunContext! This warning can be ignored when running in bare mode.\n",
      "2025-09-28 18:59:28.946 Thread 'MainThread': missing ScriptRunContext! This warning can be ignored when running in bare mode.\n",
      "2025-09-28 18:59:28.946 Thread 'MainThread': missing ScriptRunContext! This warning can be ignored when running in bare mode.\n",
      "2025-09-28 18:59:28.947 Thread 'MainThread': missing ScriptRunContext! This warning can be ignored when running in bare mode.\n",
      "2025-09-28 18:59:28.947 Thread 'MainThread': missing ScriptRunContext! This warning can be ignored when running in bare mode.\n",
      "2025-09-28 18:59:28.948 Thread 'MainThread': missing ScriptRunContext! This warning can be ignored when running in bare mode.\n",
      "2025-09-28 18:59:28.948 Thread 'MainThread': missing ScriptRunContext! This warning can be ignored when running in bare mode.\n",
      "2025-09-28 18:59:28.949 Thread 'MainThread': missing ScriptRunContext! This warning can be ignored when running in bare mode.\n",
      "2025-09-28 18:59:28.949 Thread 'MainThread': missing ScriptRunContext! This warning can be ignored when running in bare mode.\n",
      "2025-09-28 18:59:28.950 Thread 'MainThread': missing ScriptRunContext! This warning can be ignored when running in bare mode.\n",
      "2025-09-28 18:59:28.950 Thread 'MainThread': missing ScriptRunContext! This warning can be ignored when running in bare mode.\n",
      "2025-09-28 18:59:28.950 Thread 'MainThread': missing ScriptRunContext! This warning can be ignored when running in bare mode.\n",
      "2025-09-28 18:59:28.951 Thread 'MainThread': missing ScriptRunContext! This warning can be ignored when running in bare mode.\n",
      "2025-09-28 18:59:28.951 Thread 'MainThread': missing ScriptRunContext! This warning can be ignored when running in bare mode.\n",
      "2025-09-28 18:59:28.951 Thread 'MainThread': missing ScriptRunContext! This warning can be ignored when running in bare mode.\n",
      "2025-09-28 18:59:28.952 Thread 'MainThread': missing ScriptRunContext! This warning can be ignored when running in bare mode.\n",
      "2025-09-28 18:59:28.952 Thread 'MainThread': missing ScriptRunContext! This warning can be ignored when running in bare mode.\n",
      "2025-09-28 18:59:28.952 Thread 'MainThread': missing ScriptRunContext! This warning can be ignored when running in bare mode.\n",
      "2025-09-28 18:59:28.953 Thread 'MainThread': missing ScriptRunContext! This warning can be ignored when running in bare mode.\n",
      "2025-09-28 18:59:28.953 Thread 'MainThread': missing ScriptRunContext! This warning can be ignored when running in bare mode.\n",
      "2025-09-28 18:59:28.953 Thread 'MainThread': missing ScriptRunContext! This warning can be ignored when running in bare mode.\n",
      "2025-09-28 18:59:28.953 Thread 'MainThread': missing ScriptRunContext! This warning can be ignored when running in bare mode.\n",
      "2025-09-28 18:59:28.954 Thread 'MainThread': missing ScriptRunContext! This warning can be ignored when running in bare mode.\n",
      "2025-09-28 18:59:28.954 Thread 'MainThread': missing ScriptRunContext! This warning can be ignored when running in bare mode.\n",
      "2025-09-28 18:59:28.960 Thread 'MainThread': missing ScriptRunContext! This warning can be ignored when running in bare mode.\n",
      "2025-09-28 18:59:28.961 Thread 'MainThread': missing ScriptRunContext! This warning can be ignored when running in bare mode.\n",
      "2025-09-28 18:59:28.988 Thread 'MainThread': missing ScriptRunContext! This warning can be ignored when running in bare mode.\n",
      "2025-09-28 18:59:28.988 Thread 'MainThread': missing ScriptRunContext! This warning can be ignored when running in bare mode.\n"
     ]
    },
    {
     "data": {
      "text/plain": [
       "DeltaGenerator()"
      ]
     },
     "execution_count": 30,
     "metadata": {},
     "output_type": "execute_result"
    }
   ],
   "source": [
    "input_df = user_input_features()\n",
    "st.subheader(\"Customer Input\")\n",
    "st.dataframe(input_df)"
   ]
  },
  {
   "cell_type": "code",
   "execution_count": null,
   "id": "5c7be0ce-11d1-4936-b7d4-68511d3cfb0a",
   "metadata": {},
   "outputs": [],
   "source": []
  }
 ],
 "metadata": {
  "kernelspec": {
   "display_name": "Python (tf_macos)",
   "language": "python",
   "name": "tf_macos"
  },
  "language_info": {
   "codemirror_mode": {
    "name": "ipython",
    "version": 3
   },
   "file_extension": ".py",
   "mimetype": "text/x-python",
   "name": "python",
   "nbconvert_exporter": "python",
   "pygments_lexer": "ipython3",
   "version": "3.13.5"
  }
 },
 "nbformat": 4,
 "nbformat_minor": 5
}
